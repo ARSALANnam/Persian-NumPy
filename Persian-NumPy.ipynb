{
 "cells": [
  {
   "cell_type": "markdown",
   "id": "dbacc244-de3d-440b-90b9-316398b28aae",
   "metadata": {},
   "source": [
    "# NUMPY\n",
    "##### My Github:ARSALANnam\n",
    "##### My Email: arsalannam9710@gmail.com\n",
    "##### My Linkedin:www.linkedin.com/in/arsalannam"
   ]
  },
  {
   "cell_type": "markdown",
   "id": "0136eb1a-267b-4b3a-b0be-4fdcf99c9bba",
   "metadata": {},
   "source": [
    "<div style=\"direction: rtl; text-align: right; font-size: 40px\">\n",
    "NumPy چیست؟\n",
    "</div>\n"
   ]
  },
  {
   "cell_type": "markdown",
   "id": "4bc9066d-1dc2-4c9a-8876-ea46b4cb58a5",
   "metadata": {},
   "source": [
    "<div style=\"direction: rtl; text-align: right; font-size: 20px\">\n",
    "NumPy (مخفف Numerical Python) یک کتابخانه‌ی متن‌باز برای محاسبات عددی با پایتون است. این کتابخانه یک نوع داده‌ی اصلی به نام آرایه‌ی چندبعدی (ndarray) معرفی می‌کند که برای ذخیره و پردازش داده‌های عددی بسیار سریع و کارآمد است.<br>\n",
    "اگر در پایتون با داده‌های عددی زیاد کار داری، مثل تحلیل داده، هوش مصنوعی، شبیه‌سازی علمی یا حتی پردازش تصویر، یاد گرفتن و استفاده از NumPy تقریباً ضروری هست.\n",
    "</div>"
   ]
  },
  {
   "cell_type": "markdown",
   "id": "ca1ac59a-c934-4c41-9572-e126acce8177",
   "metadata": {},
   "source": [
    "<div style=\"direction: rtl; text-align: right; font-size: 30px; color: green\">\n",
    "ویژگی‌های اصلی NumPy\n",
    "</div>\n"
   ]
  },
  {
   "cell_type": "markdown",
   "id": "ff7c3cf2-ca21-4f7d-b0e0-884fc14df13e",
   "metadata": {},
   "source": [
    "<div style=\"direction: rtl; text-align: right; font-size: 20px\">\n",
    "* شیء اصلی ndarray (آرایه‌ی چندبعدی)<br>\n",
    "* سرعت بالا : NumPy از زبان C استفاده می‌کنه و محاسبات عددی سنگین رو خیلی سریع‌تر از لیست‌های معمولی پایتون انجام می‌ده.<br>\n",
    "* عملیات برداری (vectorized operations) : به جای استفاده از حلقه‌ها، می‌تونی مستقیماً روی آرایه‌ها عملیات انجام بدی. این کار کد رو کوتاه‌تر و سریع‌تر می‌کنه.<br>\n",
    "* آرایه‌های چندبعدی : می‌تونی ماتریس‌ها و آرایه‌های 1، 2 یا چندبعدی بسازی و با اون‌ها عملیات ریاضی انجام بدی.<br>\n",
    "* توابع ریاضی متنوع : جمع، میانگین، انحراف معیار، سینوس، لگاریتم و ...<br>\n",
    "* پشتیبانی از پخش (broadcasting) : یعنی امکان انجام عملیات بین آرایه‌هایی با ابعاد متفاوت به شکلی هوشمند.\n",
    "</div>"
   ]
  },
  {
   "cell_type": "markdown",
   "id": "d31112a6-e28f-4070-be71-3faf0d588cd6",
   "metadata": {},
   "source": [
    "<div style=\"direction: rtl; text-align: right; font-size: 30px\">\n",
    " نصب NumPy\n",
    "</div>"
   ]
  },
  {
   "cell_type": "code",
   "execution_count": 2,
   "id": "773dd0ef-90c9-491e-9e0a-636c2d7e94b3",
   "metadata": {},
   "outputs": [
    {
     "name": "stdout",
     "output_type": "stream",
     "text": [
      "Requirement already satisfied: numpy in /home/arsalan/.local/share/pipx/venvs/notebook/lib/python3.13/site-packages (2.2.5)\n",
      "\n",
      "\u001b[1m[\u001b[0m\u001b[34;49mnotice\u001b[0m\u001b[1;39;49m]\u001b[0m\u001b[39;49m A new release of pip is available: \u001b[0m\u001b[31;49m25.0.1\u001b[0m\u001b[39;49m -> \u001b[0m\u001b[32;49m25.1.1\u001b[0m\n",
      "\u001b[1m[\u001b[0m\u001b[34;49mnotice\u001b[0m\u001b[1;39;49m]\u001b[0m\u001b[39;49m To update, run: \u001b[0m\u001b[32;49m/home/arsalan/.local/share/pipx/venvs/notebook/bin/python -m pip install --upgrade pip\u001b[0m\n",
      "Note: you may need to restart the kernel to use updated packages.\n"
     ]
    }
   ],
   "source": [
    "pip install numpy"
   ]
  },
  {
   "cell_type": "markdown",
   "id": "df1d545d-6dcf-40d5-821c-857d4de70ce0",
   "metadata": {},
   "source": [
    "<div style=\"direction: rtl; text-align: right; font-size: 30px\">\n",
    " چگونه NumPy را وارد کنیم؟   \n",
    "</div>"
   ]
  },
  {
   "cell_type": "code",
   "execution_count": 3,
   "id": "3e6d6982-8a95-4178-8f27-6d4a10cd1ee7",
   "metadata": {},
   "outputs": [],
   "source": [
    "import numpy as np"
   ]
  },
  {
   "cell_type": "markdown",
   "id": "4eccc79a-31d0-4dfc-988a-07ae2ace907d",
   "metadata": {},
   "source": [
    "<div style=\"direction: rtl; text-align: right; font-size: 30px\">\n",
    "    مبانی آرایه‌ها (Array Fundamentals)\n",
    "</div>"
   ]
  },
  {
   "cell_type": "markdown",
   "id": "8391b2f6-8e20-4217-bc4e-776db8f85a78",
   "metadata": {},
   "source": [
    "<div style=\"direction: rtl; text-align: right; font-size: 20px\">\n",
    "آرایه‌های NumPy هسته‌ی اصلی این کتابخانه هستند. آن‌ها اشیاء ndarray نام دارند.\n",
    "</div>"
   ]
  },
  {
   "cell_type": "code",
   "execution_count": 4,
   "id": "0e44f379-4855-493f-9f80-d865e8059be3",
   "metadata": {},
   "outputs": [
    {
     "data": {
      "text/plain": [
       "array([[1, 2, 3],\n",
       "       [4, 5, 6]])"
      ]
     },
     "execution_count": 4,
     "metadata": {},
     "output_type": "execute_result"
    }
   ],
   "source": [
    "a = np.array([[1, 2, 3], [4, 5, 6]])\n",
    "a"
   ]
  },
  {
   "cell_type": "markdown",
   "id": "038bf64e-e908-4ef7-a981-f76191c28500",
   "metadata": {},
   "source": [
    "<div style=\"direction: rtl; text-align: right; font-size: 25px\">\n",
    "    ساخت آرایه یک بعدی\n",
    "</div>"
   ]
  },
  {
   "cell_type": "code",
   "execution_count": 5,
   "id": "bf720941-282e-49ff-8f2a-3936361ddd02",
   "metadata": {},
   "outputs": [
    {
     "data": {
      "text/plain": [
       "array([1, 2, 3])"
      ]
     },
     "execution_count": 5,
     "metadata": {},
     "output_type": "execute_result"
    }
   ],
   "source": [
    "b = np.array([1, 2, 3])\n",
    "b"
   ]
  },
  {
   "cell_type": "markdown",
   "id": "c54719ab-ccbe-48ed-9951-df8f29ed1513",
   "metadata": {},
   "source": [
    "<div style=\"direction: rtl; text-align: right; font-size: 25px\">\n",
    "    ساخت آرایه دو بعدی\n",
    "</div>"
   ]
  },
  {
   "cell_type": "code",
   "execution_count": 6,
   "id": "84c98791-f0aa-47f6-a3b2-0d7da69e5fdb",
   "metadata": {},
   "outputs": [
    {
     "data": {
      "text/plain": [
       "array([[1, 2, 3],\n",
       "       [4, 5, 6]])"
      ]
     },
     "execution_count": 6,
     "metadata": {},
     "output_type": "execute_result"
    }
   ],
   "source": [
    "c = np.array([[1, 2, 3], [4, 5, 6]])\n",
    "c"
   ]
  },
  {
   "cell_type": "markdown",
   "id": "00bb2962-d410-4574-b471-280d636aebdd",
   "metadata": {},
   "source": [
    "<div style=\"direction: rtl; text-align: right; font-size: 20px; color: red\">\n",
    "     نکته: لیست‌های تو در تو باید اندازه‌ی مساوی داشته باشند\n",
    "</div>"
   ]
  },
  {
   "cell_type": "markdown",
   "id": "4b197d73-2f50-4916-a0f0-588447faa7e7",
   "metadata": {},
   "source": [
    "<div style=\"direction: rtl; text-align: right; font-size: 25px\">\n",
    "    انتخاب نوع داده (dtype)\n",
    "</div>"
   ]
  },
  {
   "cell_type": "code",
   "execution_count": 7,
   "id": "4f0789aa-bd11-4821-a0da-935c6fb6efbf",
   "metadata": {},
   "outputs": [
    {
     "data": {
      "text/plain": [
       "array([1., 2., 3.])"
      ]
     },
     "execution_count": 7,
     "metadata": {},
     "output_type": "execute_result"
    }
   ],
   "source": [
    "np.array([1, 2, 3], dtype=float)\n"
   ]
  },
  {
   "cell_type": "markdown",
   "id": "68c9c57e-6276-4a88-8936-34abed4f52c3",
   "metadata": {},
   "source": [
    "<div style=\"direction: rtl; text-align: right; font-size: 30px\">\n",
    "ویژگی‌های آرایه در NumPy \n",
    "</div>"
   ]
  },
  {
   "cell_type": "markdown",
   "id": "7aa3c489-acee-44c1-b647-c27a369083d7",
   "metadata": {},
   "source": [
    "<div style=\"direction: rtl; text-align: right; font-size: 20px\">\n",
    "وقتی یک آرایه می‌سازیم، NumPy اطلاعات مختلفی درباره‌ی آن نگه می‌دارد. این اطلاعات با ویژگی‌هایی (attributes) مثل .shape, .dtype و ... قابل دسترسی هستند.\n",
    "</div>"
   ]
  },
  {
   "cell_type": "markdown",
   "id": "dc98ac47-cfce-4816-8d9d-28c3af5d83ce",
   "metadata": {},
   "source": [
    "<div style=\"direction: rtl; text-align: right; font-size: 15px\">\n",
    "تعداد بعد (چندبعدی بودن آرایه)\n",
    "</div>"
   ]
  },
  {
   "cell_type": "code",
   "execution_count": 8,
   "id": "fcb717f9-1db7-4675-ac74-412fc5265b4e",
   "metadata": {},
   "outputs": [
    {
     "data": {
      "text/plain": [
       "2"
      ]
     },
     "execution_count": 8,
     "metadata": {},
     "output_type": "execute_result"
    }
   ],
   "source": [
    "a.ndim"
   ]
  },
  {
   "cell_type": "markdown",
   "id": "c28ea50b-0440-401e-98b4-2f6e2b872bae",
   "metadata": {},
   "source": [
    "<div style=\"direction: rtl; text-align: right; font-size: 15px\">\n",
    "شکل آرایه (تعداد سطر، ستون و ...)\t\n",
    "</div>"
   ]
  },
  {
   "cell_type": "code",
   "execution_count": 9,
   "id": "4dbbcb23-0a33-41c5-8028-6111c6164c6a",
   "metadata": {},
   "outputs": [
    {
     "data": {
      "text/plain": [
       "(2, 3)"
      ]
     },
     "execution_count": 9,
     "metadata": {},
     "output_type": "execute_result"
    }
   ],
   "source": [
    "a.shape"
   ]
  },
  {
   "cell_type": "markdown",
   "id": "f398f98a-f1fb-4675-b568-fb7a108ac77d",
   "metadata": {},
   "source": [
    "<div style=\"direction: rtl; text-align: right; font-size: 15px\">\n",
    "تعداد کل عناصر آرایه\n",
    "</div>"
   ]
  },
  {
   "cell_type": "code",
   "execution_count": 10,
   "id": "bb120918-5d55-4efd-89d9-44169d7c4f64",
   "metadata": {},
   "outputs": [
    {
     "data": {
      "text/plain": [
       "6"
      ]
     },
     "execution_count": 10,
     "metadata": {},
     "output_type": "execute_result"
    }
   ],
   "source": [
    "a.size"
   ]
  },
  {
   "cell_type": "markdown",
   "id": "4aa2b783-598d-4d8c-85dd-1cbac3efbb04",
   "metadata": {},
   "source": [
    "<div style=\"direction: rtl; text-align: right; font-size: 15px\">\n",
    "    نوع داده‌ی عناصر\n",
    "</div>"
   ]
  },
  {
   "cell_type": "code",
   "execution_count": 11,
   "id": "6704559f-daa4-4bd8-89c8-46ed6a1f841d",
   "metadata": {},
   "outputs": [
    {
     "data": {
      "text/plain": [
       "dtype('int64')"
      ]
     },
     "execution_count": 11,
     "metadata": {},
     "output_type": "execute_result"
    }
   ],
   "source": [
    "a.dtype"
   ]
  },
  {
   "cell_type": "markdown",
   "id": "1f2678c3-7756-4519-af0f-bb3b4179149a",
   "metadata": {},
   "source": [
    "<div style=\"direction: rtl; text-align: right; font-size: 15px\">\n",
    "اندازه‌ی هر عنصر بر حسب بایت\n",
    "</div>"
   ]
  },
  {
   "cell_type": "code",
   "execution_count": 12,
   "id": "b2b268b9-b118-4599-b6e1-64635972a9ae",
   "metadata": {},
   "outputs": [
    {
     "data": {
      "text/plain": [
       "8"
      ]
     },
     "execution_count": 12,
     "metadata": {},
     "output_type": "execute_result"
    }
   ],
   "source": [
    "a.itemsize"
   ]
  },
  {
   "cell_type": "markdown",
   "id": "a0b10ea5-d890-4a86-9eb2-f61314c3bd5c",
   "metadata": {},
   "source": [
    "<div style=\"direction: rtl; text-align: right; font-size: 15px\">\n",
    "    مجموع حافظه‌ی مصرفی (size * itemsize)\n",
    "</div>"
   ]
  },
  {
   "cell_type": "code",
   "execution_count": 13,
   "id": "f8040a36-f85e-414f-9955-e812d88511d9",
   "metadata": {},
   "outputs": [
    {
     "data": {
      "text/plain": [
       "48"
      ]
     },
     "execution_count": 13,
     "metadata": {},
     "output_type": "execute_result"
    }
   ],
   "source": [
    "a.nbytes"
   ]
  },
  {
   "cell_type": "markdown",
   "id": "3328962d-a168-4ac8-a76f-fe706b352814",
   "metadata": {},
   "source": [
    "<div style=\"direction: rtl; text-align: right; font-size: 30px\">\n",
    "    ساخت آرایه‌هایی با مقدار اولیه\n",
    "</div>"
   ]
  },
  {
   "cell_type": "markdown",
   "id": "5ac39806-9866-45be-8828-c5cba40305a8",
   "metadata": {},
   "source": [
    "<div style=\"direction: rtl; text-align: right; font-size: 20px\">\n",
    "    NumPy توابعی داره برای ساخت آرایه‌هایی با مقدارهای اولیه‌ی مشخص (مثل صفر، یک، یا تصادفی). این کار معمولاً برای ابتدای محاسبات مفیده.\n",
    "</div>"
   ]
  },
  {
   "cell_type": "markdown",
   "id": "917b51ee-6748-4548-a188-72b84dadceb1",
   "metadata": {},
   "source": [
    "<div style=\"direction: rtl; text-align: right; font-size: 20px\">\n",
    "آرایه‌ای با اندازه‌ی دلخواه که همه‌ی عناصرش صفر هستند:\n",
    "</div>"
   ]
  },
  {
   "cell_type": "code",
   "execution_count": 14,
   "id": "b5a48206-e625-4f05-86cf-4f54055ade69",
   "metadata": {},
   "outputs": [
    {
     "data": {
      "text/plain": [
       "array([[0., 0., 0., 0.],\n",
       "       [0., 0., 0., 0.]])"
      ]
     },
     "execution_count": 14,
     "metadata": {},
     "output_type": "execute_result"
    }
   ],
   "source": [
    "np.zeros((2, 4))"
   ]
  },
  {
   "cell_type": "markdown",
   "id": "f6676a36-45d8-4031-bd4f-ec09b2a77b5a",
   "metadata": {},
   "source": [
    "<div style=\"direction: rtl; text-align: right; font-size: 20px\">\n",
    "آرایه‌ای با مقدار ۱:\n",
    "</div>"
   ]
  },
  {
   "cell_type": "code",
   "execution_count": 15,
   "id": "bf161d63-b7fc-4cf4-9a4c-fd2d43fea388",
   "metadata": {},
   "outputs": [
    {
     "data": {
      "text/plain": [
       "array([[1., 1., 1., 1.],\n",
       "       [1., 1., 1., 1.]])"
      ]
     },
     "execution_count": 15,
     "metadata": {},
     "output_type": "execute_result"
    }
   ],
   "source": [
    "np.ones((2, 4))"
   ]
  },
  {
   "cell_type": "markdown",
   "id": "0d5fa3d2-26fa-452b-9e0e-ac0432a4c42f",
   "metadata": {},
   "source": [
    "<div style=\"direction: rtl; text-align: right; font-size: 20px\">\n",
    "آرایه‌ای با اندازه‌ی دلخواه، بدون مقداردهی اولیه. مقادیر تصادفی (باقیمانده‌ی حافظه) خواهد داشت:\n",
    "\n",
    "</div>"
   ]
  },
  {
   "cell_type": "code",
   "execution_count": 16,
   "id": "a2918663-9c2c-433d-9d6d-299036ddf203",
   "metadata": {},
   "outputs": [
    {
     "data": {
      "text/plain": [
       "array([[3.63777810e-315, 0.00000000e+000],\n",
       "       [3.63155593e-315, 3.63155554e-315]])"
      ]
     },
     "execution_count": 16,
     "metadata": {},
     "output_type": "execute_result"
    }
   ],
   "source": [
    "np.empty((2, 2))"
   ]
  },
  {
   "cell_type": "markdown",
   "id": "d4b6c19c-1a70-4f87-b0a5-e7523ad4936b",
   "metadata": {},
   "source": [
    "<div style=\"direction: rtl; text-align: right; font-size: 20px\">\n",
    "    مثل range() پایتون، ولی خروجی‌اش ndarray است:<br>\n",
    "    به شکل np.arange(start, stop, step)\n",
    "</div>"
   ]
  },
  {
   "cell_type": "code",
   "execution_count": 17,
   "id": "800aa98f-1f18-491b-9dd8-68ce2eb1b09d",
   "metadata": {},
   "outputs": [
    {
     "data": {
      "text/plain": [
       "array([0, 2, 4, 6, 8])"
      ]
     },
     "execution_count": 17,
     "metadata": {},
     "output_type": "execute_result"
    }
   ],
   "source": [
    "np.arange(0, 10, 2)"
   ]
  },
  {
   "cell_type": "markdown",
   "id": "d69fc534-c3f5-4098-982d-04bb94c4dd39",
   "metadata": {},
   "source": [
    "<div style=\"direction: rtl; text-align: right; font-size: 20px\">\n",
    "    تولید num عدد بین start تا stop به‌طور مساوی:<br>\n",
    "    به شکل np.linspace(start, stop, num)\n",
    "</div>"
   ]
  },
  {
   "cell_type": "code",
   "execution_count": 18,
   "id": "fdee4019-5034-4a3a-9695-7bc7a23cdcfb",
   "metadata": {},
   "outputs": [
    {
     "data": {
      "text/plain": [
       "array([0.  , 0.25, 0.5 , 0.75, 1.  ])"
      ]
     },
     "execution_count": 18,
     "metadata": {},
     "output_type": "execute_result"
    }
   ],
   "source": [
    "np.linspace(0, 1, 5)"
   ]
  },
  {
   "cell_type": "markdown",
   "id": "2acd912d-e5c0-411d-b8c1-11d1a8021444",
   "metadata": {},
   "source": [
    "<div style=\"direction: rtl; text-align: right; font-size: 30px\">\n",
    "    چاپ آرایه‌ها در NumPy\n",
    "\n",
    "</div>"
   ]
  },
  {
   "cell_type": "markdown",
   "id": "ef83de34-f15d-4895-a820-06070fb55a22",
   "metadata": {},
   "source": [
    "<div style=\"direction: rtl; text-align: right; font-size: 20px\">\n",
    "آرایه‌های یک‌بعدی:\n",
    "</div>"
   ]
  },
  {
   "cell_type": "code",
   "execution_count": 19,
   "id": "876a61a4-9c5f-4991-ab08-515d868783fe",
   "metadata": {},
   "outputs": [
    {
     "name": "stdout",
     "output_type": "stream",
     "text": [
      "[0 1 2 3 4 5]\n"
     ]
    }
   ],
   "source": [
    "import numpy as np\n",
    "a = np.arange(6)\n",
    "print(a)"
   ]
  },
  {
   "cell_type": "markdown",
   "id": "c6d213e4-c24b-46d1-8f4c-fc38922a3d0e",
   "metadata": {},
   "source": [
    "<div style=\"direction: rtl; text-align: right; font-size: 20px\">\n",
    "     آرایه‌های دوبعدی:\n",
    "</div>"
   ]
  },
  {
   "cell_type": "code",
   "execution_count": 20,
   "id": "6681cbe1-5df3-414c-be80-6a0845384f39",
   "metadata": {},
   "outputs": [
    {
     "name": "stdout",
     "output_type": "stream",
     "text": [
      "[[ 0  1  2  3]\n",
      " [ 4  5  6  7]\n",
      " [ 8  9 10 11]]\n"
     ]
    }
   ],
   "source": [
    "b = np.arange(12).reshape(3, 4)\n",
    "print(b)"
   ]
  },
  {
   "cell_type": "markdown",
   "id": "a47ff846-00b2-4466-870c-ab11442c0419",
   "metadata": {},
   "source": [
    "<div style=\"direction: rtl; text-align: right; font-size: 20px\">\n",
    "    تابع reshape() به شما این امکان رو می‌ده که آرایه‌ای با شکل (ابعاد) جدید بسازید، به شرطی که تعداد کل عناصر ثابت بماند.\n",
    "</div>"
   ]
  },
  {
   "cell_type": "code",
   "execution_count": 21,
   "id": "bc115567-1046-4e2a-9e78-07aadca9ff5d",
   "metadata": {},
   "outputs": [
    {
     "name": "stdout",
     "output_type": "stream",
     "text": [
      "[[0 1 2]\n",
      " [3 4 5]]\n"
     ]
    }
   ],
   "source": [
    "a = np.arange(6)\n",
    "b = a.reshape((2, 3))  \n",
    "print(b)"
   ]
  },
  {
   "cell_type": "markdown",
   "id": "4adc6d4a-c73f-425d-ab72-1bd9fb751869",
   "metadata": {},
   "source": [
    "<div style=\"direction: rtl; text-align: right; font-size: 20px; color:red\">\n",
    "نکته: از -1 برای تعیین خودکار بُعد استفاده میشه\n",
    "</div>"
   ]
  },
  {
   "cell_type": "markdown",
   "id": "f63a3386-6ee4-4d70-9798-9b5d8eb25727",
   "metadata": {},
   "source": [
    "<div style=\"direction: rtl; text-align: right; font-size: 20px; color:red\">\n",
    "تعداد عناصر قبل و بعد باید برابر باشه.\n",
    "</div>"
   ]
  },
  {
   "cell_type": "markdown",
   "id": "9d2f2bb0-4458-4ea1-849c-663c6ad00e8b",
   "metadata": {},
   "source": [
    "<div style=\"direction: rtl; text-align: right; font-size: 20px\">\n",
    "     آرایه‌های بزرگ:\n",
    "</div>"
   ]
  },
  {
   "cell_type": "markdown",
   "id": "150d610e-f41c-4919-9876-8a04dc052541",
   "metadata": {},
   "source": [
    "<div style=\"direction: rtl; text-align: right; font-size: 15px\">\n",
    "    برای آرایه‌های خیلی بزرگ، NumPy فقط قسمت‌هایی از ابتدا و انتها را نشان می‌دهد و وسط را با ... حذف می‌کند:\n",
    "</div>"
   ]
  },
  {
   "cell_type": "code",
   "execution_count": 121,
   "id": "b1043b29-8401-4b52-be08-d48b5991b696",
   "metadata": {
    "scrolled": true
   },
   "outputs": [
    {
     "name": "stdout",
     "output_type": "stream",
     "text": [
      "[ 0  1  2  3  4  5  6  7  8  9 10 11 12 13 14 15 16 17 18 19 20 21 22 23\n",
      " 24 25 26 27 28 29 30 31 32 33 34 35 36 37 38 39 40 41 42 43 44 45 46 47\n",
      " 48 49 50 51 52 53 54 55 56 57 58 59 60 61 62 63 64 65 66 67 68 69 70 71\n",
      " 72 73 74 75 76 77 78 79 80 81 82 83 84 85 86 87 88 89 90 91 92 93 94 95\n",
      " 96 97 98 99]\n"
     ]
    }
   ],
   "source": [
    "c = np.arange(100)\n",
    "print(c)"
   ]
  },
  {
   "cell_type": "markdown",
   "id": "e8cd2d83-2a6d-418a-b633-8800d9aac0ec",
   "metadata": {},
   "source": [
    "<div style=\"direction: rtl; text-align: right; font-size: 20px\">\n",
    "    می‌توان فرمت نمایش را تنظیم کرد:<br>\n",
    "     این باعث می‌شود کل آرایه چاپ شود (بدون ...).\n",
    "</div>"
   ]
  },
  {
   "cell_type": "code",
   "execution_count": 122,
   "id": "e8e1efd5-3df6-488e-9d05-098cbbb9c1f3",
   "metadata": {},
   "outputs": [],
   "source": [
    "np.set_printoptions(threshold=np.inf)"
   ]
  },
  {
   "cell_type": "code",
   "execution_count": 24,
   "id": "55be4ad8-9351-43e8-9c4c-d62d8cb947ad",
   "metadata": {
    "scrolled": true
   },
   "outputs": [
    {
     "name": "stdout",
     "output_type": "stream",
     "text": [
      "[ 0  1  2  3  4  5  6  7  8  9 10 11 12 13 14 15 16 17 18 19 20 21 22 23\n",
      " 24 25 26 27 28 29 30 31 32 33 34 35 36 37 38 39 40 41 42 43 44 45 46 47\n",
      " 48 49 50 51 52 53 54 55 56 57 58 59 60 61 62 63 64 65 66 67 68 69 70 71\n",
      " 72 73 74 75 76 77 78 79 80 81 82 83 84 85 86 87 88 89 90 91 92 93 94 95\n",
      " 96 97 98 99]\n"
     ]
    }
   ],
   "source": [
    "print(c)"
   ]
  },
  {
   "cell_type": "markdown",
   "id": "0dcf709d-56b0-44e7-a6a8-3c1d80e0cd12",
   "metadata": {},
   "source": [
    "<div style=\"direction: rtl; text-align: right; font-size: 30px\">\n",
    "     اضافه، حذف و مرتب‌سازی عناصر در NumPy\n",
    "</div>"
   ]
  },
  {
   "cell_type": "markdown",
   "id": "653a2fa7-2b50-44c4-8e51-5dfd7a773ba7",
   "metadata": {},
   "source": [
    "<div style=\"direction: rtl; text-align: right; font-size: 20px\">\n",
    "    اضافه کردن عناصر np.append()\n",
    "</div>"
   ]
  },
  {
   "cell_type": "code",
   "execution_count": 25,
   "id": "ab56933a-7cf5-4730-bee5-87e668457357",
   "metadata": {},
   "outputs": [
    {
     "name": "stdout",
     "output_type": "stream",
     "text": [
      "[1 2 3 4 5]\n"
     ]
    }
   ],
   "source": [
    "a = np.array([1, 2, 3])\n",
    "b = np.append(a, [4, 5])\n",
    "print(b)"
   ]
  },
  {
   "cell_type": "markdown",
   "id": "79997141-971f-4570-ad4e-fedac0472524",
   "metadata": {},
   "source": [
    "<div style=\"direction: rtl; text-align: right; font-size: 20px\">\n",
    "     حذف عناصر  np.delete()\n",
    "</div>"
   ]
  },
  {
   "cell_type": "code",
   "execution_count": 26,
   "id": "4a23ed70-86a7-4afb-a4c0-2a34a105c11b",
   "metadata": {},
   "outputs": [
    {
     "name": "stdout",
     "output_type": "stream",
     "text": [
      "[1 3 5]\n"
     ]
    }
   ],
   "source": [
    "a = np.array([1, 2, 3, 4, 5])\n",
    "b = np.delete(a, [1, 3]) \n",
    "print(b)"
   ]
  },
  {
   "cell_type": "code",
   "execution_count": 27,
   "id": "bcc99fed-1a42-4f72-93cb-052d6dcaf895",
   "metadata": {},
   "outputs": [
    {
     "data": {
      "text/plain": [
       "array([[1, 2],\n",
       "       [5, 6]])"
      ]
     },
     "execution_count": 27,
     "metadata": {},
     "output_type": "execute_result"
    }
   ],
   "source": [
    "a = np.array([[1, 2], [3, 4], [5, 6]])\n",
    "np.delete(a, 1, axis=0)  # حذف سطر دوم"
   ]
  },
  {
   "cell_type": "markdown",
   "id": "7ea68436-126b-4db5-be62-7d75fa23f066",
   "metadata": {},
   "source": [
    "<div style=\"direction: rtl; text-align: right; font-size: 20px\">\n",
    "    مرتب‌سازی عناصر  np.sort()\n",
    "</div>"
   ]
  },
  {
   "cell_type": "code",
   "execution_count": 28,
   "id": "2a66c98a-9a39-4106-9768-e3650eae3122",
   "metadata": {},
   "outputs": [
    {
     "name": "stdout",
     "output_type": "stream",
     "text": [
      "[1 2 3]\n"
     ]
    }
   ],
   "source": [
    "a = np.array([3, 1, 2])\n",
    "b = np.sort(a)\n",
    "print(b)"
   ]
  },
  {
   "cell_type": "code",
   "execution_count": 29,
   "id": "0ac2136b-a068-4964-8126-4bad119fd128",
   "metadata": {},
   "outputs": [
    {
     "data": {
      "text/plain": [
       "array([[1, 3],\n",
       "       [2, 4]])"
      ]
     },
     "execution_count": 29,
     "metadata": {},
     "output_type": "execute_result"
    }
   ],
   "source": [
    "a = np.array([[3, 1], [2, 4]])\n",
    "np.sort(a, axis=0)  # مرتب‌سازی بر اساس ستون‌ها\n",
    "np.sort(a, axis=1)  # مرتب‌سازی بر اساس سطرها"
   ]
  },
  {
   "cell_type": "markdown",
   "id": "3d2c0be6-3958-4711-a358-6348ff01fb4e",
   "metadata": {},
   "source": [
    "<div style=\"direction: rtl; text-align: right; font-size: 20px; color:red\">\n",
    "    تابع‌هایی مثل append, delete, sort آرایه‌ی جدید برمی‌گردونن و آرایه‌ی اصلی رو تغییر نمی‌دن.\n",
    "</div>"
   ]
  },
  {
   "cell_type": "markdown",
   "id": "40af908d-4fe7-4964-aa90-64a372dd1c55",
   "metadata": {},
   "source": [
    "<div style=\"direction: rtl; text-align: right; font-size: 20px\">اتصال آرایه‌ها np.concatenate()<br>\n",
    "برای چسباندن چند آرایه به هم استفاده می‌شه. همه باید شکل (shape) سازگار داشته باشن.\n",
    "</div>"
   ]
  },
  {
   "cell_type": "code",
   "execution_count": 30,
   "id": "f2fcccdc-1338-403e-906a-bd2ee3cb6893",
   "metadata": {},
   "outputs": [
    {
     "name": "stdout",
     "output_type": "stream",
     "text": [
      "[1 2 3 4]\n"
     ]
    }
   ],
   "source": [
    "a = np.array([1, 2])\n",
    "b = np.array([3, 4])\n",
    "\n",
    "c = np.concatenate((a, b))\n",
    "print(c)  # [1 2 3 4]\n"
   ]
  },
  {
   "cell_type": "markdown",
   "id": "4e940bbb-dc86-4e8c-bdaf-4d062147e826",
   "metadata": {},
   "source": [
    "<div style=\"direction: rtl; text-align: right; font-size: 30px\">\n",
    "    توابع مرتب‌سازی و جستجوی پیشرفته در NumPy\n",
    "</div>"
   ]
  },
  {
   "cell_type": "markdown",
   "id": "562e9900-90bb-45c5-a20c-0b66cafecfe6",
   "metadata": {},
   "source": [
    "<div style=\"direction: rtl; text-align: right; font-size: 20px\">\n",
    "     مرتب‌سازی غیرمستقیم:<br>\n",
    "    به‌جای مرتب‌کردن خود آرایه، اندیس‌هایی برمی‌گردونه که می‌تونن آرایه رو مرتب کنن.\n",
    "</div>"
   ]
  },
  {
   "cell_type": "code",
   "execution_count": 31,
   "id": "62b0cae9-ee0c-4421-97da-de56f2d6ca1d",
   "metadata": {},
   "outputs": [
    {
     "name": "stdout",
     "output_type": "stream",
     "text": [
      "[1 2 0]\n",
      "[10 20 30]\n"
     ]
    }
   ],
   "source": [
    "a = np.array([30, 10, 20])\n",
    "i = np.argsort(a)\n",
    "print(i) \n",
    "print(a[i]) "
   ]
  },
  {
   "cell_type": "markdown",
   "id": "c70840af-8482-4165-b387-53e306b9101b",
   "metadata": {},
   "source": [
    "<div style=\"direction: rtl; text-align: right; font-size: 20px\">\n",
    "    مرتب‌سازی پایدار با چند کلید (دو یا چند آرایه):<br>\n",
    "    مثلاً: اول بر اساس نام، بعد بر اساس سن مرتب کن.\n",
    "</div>"
   ]
  },
  {
   "cell_type": "code",
   "execution_count": 32,
   "id": "2d205a09-596f-413f-95f7-0963ab81978f",
   "metadata": {},
   "outputs": [
    {
     "name": "stdout",
     "output_type": "stream",
     "text": [
      "[1 0 2]\n"
     ]
    }
   ],
   "source": [
    "names = np.array(['Arsalan', 'Arsalan', 'Sara'])\n",
    "ages = np.array([40, 35, 25])\n",
    "\n",
    "i = np.lexsort((ages, names))\n",
    "print(i)"
   ]
  },
  {
   "cell_type": "markdown",
   "id": "768c78e6-1c96-470b-aeae-8037cc73578f",
   "metadata": {},
   "source": [
    "<div style=\"direction: rtl; text-align: right; font-size: 20px\">\n",
    "     پیدا کردن جای مناسب یک عدد در آرایه‌ی مرتب‌شده (برای درج کردن):\n",
    "</div>"
   ]
  },
  {
   "cell_type": "code",
   "execution_count": 33,
   "id": "cfdccd4b-e0b2-4a10-8f94-03d6ffdd030d",
   "metadata": {},
   "outputs": [
    {
     "name": "stdout",
     "output_type": "stream",
     "text": [
      "2\n"
     ]
    }
   ],
   "source": [
    "a = np.array([20, 30, 40])\n",
    "i = np.searchsorted(a, 35)\n",
    "print(i)  # 2 → چون 35 بین 30 و 40 قرار می‌گیره"
   ]
  },
  {
   "cell_type": "markdown",
   "id": "e9d08be8-c633-4327-bba6-54d2f138c4a5",
   "metadata": {},
   "source": [
    "<div style=\"direction: rtl; text-align: right; font-size: 20px\">\n",
    " مرتب‌سازی جزئی:<br>\n",
    "    قط جای یک عنصر خاص (مثلاً کوچک‌ترین سومین عدد) رو پیدا می‌کنه و مطمئن می‌شه که عناصر کوچکتر در سمت چپ هستن.\n",
    "</div>"
   ]
  },
  {
   "cell_type": "code",
   "execution_count": 34,
   "id": "dea7b653-0a00-46c1-a96e-575f889c97cc",
   "metadata": {},
   "outputs": [
    {
     "name": "stdout",
     "output_type": "stream",
     "text": [
      "[1 2 5 7 9]\n"
     ]
    }
   ],
   "source": [
    "a = np.array([7, 2, 5, 1, 9])\n",
    "p = np.partition(a, 2)\n",
    "print(p)"
   ]
  },
  {
   "cell_type": "markdown",
   "id": "d500812e-1d82-40d0-a4d1-4b9f709aab74",
   "metadata": {},
   "source": [
    "<div style=\"direction: rtl; text-align: right; font-size: 30px\">\n",
    "    Indexing و Slicing در NumPy\n",
    "</div>"
   ]
  },
  {
   "cell_type": "markdown",
   "id": "47976385-098f-4624-aaf8-5c080ae7d3b6",
   "metadata": {},
   "source": [
    "<div style=\"direction: rtl; text-align: right; font-size: 20px\">\n",
    "    ایندکس‌گذاری (Indexing)<br>\n",
    "    مثل لیست‌های پایتون، می‌توانیم با استفاده از اندیس‌ها به عناصر آرایه دسترسی پیدا کنیم.\n",
    "</div>"
   ]
  },
  {
   "cell_type": "code",
   "execution_count": 35,
   "id": "5e4a8287-d493-4393-8b57-af6d0f962dc6",
   "metadata": {},
   "outputs": [
    {
     "name": "stdout",
     "output_type": "stream",
     "text": [
      "10\n",
      "30\n"
     ]
    }
   ],
   "source": [
    "import numpy as np\n",
    "\n",
    "a = np.array([10, 20, 30, 40, 50])\n",
    "print(a[0])\n",
    "print(a[2])  "
   ]
  },
  {
   "cell_type": "markdown",
   "id": "3410ddda-2ce7-47ed-83bc-98aae325e2fd",
   "metadata": {},
   "source": [
    "<div style=\"direction: rtl; text-align: right; font-size: 20px; color:green\">\n",
    ". اندیس‌ها از صفر شروع می‌شوند.<br>\n",
    ". می‌توان از اندیس‌های منفی برای دسترسی از انتهای آرایه استفاده کرد.\n",
    "</div>"
   ]
  },
  {
   "cell_type": "markdown",
   "id": "84117372-4d9a-466c-ba1f-120f2c720967",
   "metadata": {},
   "source": [
    "<div style=\"direction: rtl; text-align: right; font-size: 20px\">\n",
    "ایندکس‌گذاری چند بعدی\n",
    "    <br>\n",
    "برای آرایه‌های چندبعدی، از چند عدد اندیس به صورت کاما جدا شده استفاده می‌کنیم:\n",
    "</div>"
   ]
  },
  {
   "cell_type": "code",
   "execution_count": 36,
   "id": "03e554f3-19b9-4c3d-846a-d0366a36132d",
   "metadata": {},
   "outputs": [
    {
     "name": "stdout",
     "output_type": "stream",
     "text": [
      "2\n",
      "6\n"
     ]
    }
   ],
   "source": [
    "b = np.array([[1, 2, 3], [4, 5, 6]])\n",
    "print(b[0, 1])\n",
    "print(b[1, 2])"
   ]
  },
  {
   "cell_type": "markdown",
   "id": "f78237a3-69b0-4e24-b116-36fe4f9e1511",
   "metadata": {},
   "source": [
    "<div style=\"direction: rtl; text-align: right; font-size: 20px\">\n",
    " می توانید مقدار شاخص مورد نظر خود را تغییر دهید\n",
    "</div>"
   ]
  },
  {
   "cell_type": "code",
   "execution_count": 37,
   "id": "615dccb9-4b94-4b6e-8b90-b4dd83d7f0bb",
   "metadata": {},
   "outputs": [
    {
     "data": {
      "text/plain": [
       "array([1, 3, 4, 7])"
      ]
     },
     "execution_count": 37,
     "metadata": {},
     "output_type": "execute_result"
    }
   ],
   "source": [
    "a = np.array([1, 2, 4, 7])\n",
    "a[1] = 3\n",
    "a"
   ]
  },
  {
   "cell_type": "markdown",
   "id": "b74cde84-ddf5-4fe7-90e1-e6e20fcb95b8",
   "metadata": {},
   "source": [
    "<div style=\"direction: rtl; text-align: right; font-size: 20px\">\n",
    "    برش (Slicing)<br>\n",
    "    می‌توان بخش‌هایی از آرایه را با استفاده از برش (slice) برداشت، شبیه به لیست‌های پایتون:\n",
    "</div>"
   ]
  },
  {
   "cell_type": "code",
   "execution_count": 38,
   "id": "2aef7b3e-4310-41a1-8175-214b6c5671d7",
   "metadata": {},
   "outputs": [
    {
     "name": "stdout",
     "output_type": "stream",
     "text": [
      "[30 40 50]\n"
     ]
    }
   ],
   "source": [
    "a = np.array([20, 30, 40, 50, 60, 70 ,80])\n",
    "print(a[1:4]) "
   ]
  },
  {
   "cell_type": "markdown",
   "id": "0b326737-131a-46fa-9c0d-61ea73f24ce1",
   "metadata": {},
   "source": [
    "<div style=\"direction: rtl; text-align: right; font-size: 20px\">\n",
    "    فرمت کلی:<br>\n",
    "    start: اندیس شروع<br>\n",
    "stop: اندیسی که تا قبل از آن برش می‌زنیم <br>\n",
    "step: گام برداشتن (مثلاً هر دو تا یک عنصر)\n",
    "</div>"
   ]
  },
  {
   "cell_type": "markdown",
   "id": "20582edf-8616-4afb-a699-f8ac3f63f5c2",
   "metadata": {},
   "source": [
    "<div style=\"direction: ltr; text-align: left; font-size: 20px\">\n",
    "    array[start:stop:step]\n",
    "\n",
    "</div>"
   ]
  },
  {
   "cell_type": "code",
   "execution_count": 39,
   "id": "540278fa-93b9-45d8-bef0-751686829763",
   "metadata": {},
   "outputs": [
    {
     "name": "stdout",
     "output_type": "stream",
     "text": [
      "[20 40 60 80]\n"
     ]
    }
   ],
   "source": [
    "print(a[::2])  # (هر دو عنصر یک بار)"
   ]
  },
  {
   "cell_type": "markdown",
   "id": "2d1c1624-5c4c-4e22-907d-98a7bf4f7a7c",
   "metadata": {},
   "source": [
    "<div style=\"direction: rtl; text-align: right; font-size: 20px\">\n",
    "     برش چند بعدی\n",
    "</div>"
   ]
  },
  {
   "cell_type": "code",
   "execution_count": 40,
   "id": "0c45072a-6dd6-4782-b1eb-3bf330378964",
   "metadata": {},
   "outputs": [
    {
     "name": "stdout",
     "output_type": "stream",
     "text": [
      "[2 5]\n",
      "[1 2 3]\n"
     ]
    }
   ],
   "source": [
    "print(b[:, 1])\n",
    "print(b[0, :]) "
   ]
  },
  {
   "cell_type": "markdown",
   "id": "9c126802-1c92-4c91-b846-b83fa38de210",
   "metadata": {},
   "source": [
    "<div style=\"direction: rtl; text-align: right; font-size: 20px; color:red\">\n",
    "    : یعنی همه عناصر در آن بعد.\n",
    "</div>"
   ]
  },
  {
   "cell_type": "markdown",
   "id": "d8fa344f-d098-4b08-b92d-367190f2bfa2",
   "metadata": {},
   "source": [
    "<div style=\"direction: rtl; text-align: right; font-size: 20px; color:red\">\n",
    "    توجه مهم: ایندکس‌ها برش‌ها به آرایه جدید ارجاع نمی‌دهند بلکه نمایشی از همان داده اصلی هستند.\n",
    "</div>"
   ]
  },
  {
   "cell_type": "markdown",
   "id": "9193d8bf-bddf-49b1-ad61-0a8aea246498",
   "metadata": {},
   "source": [
    "<div style=\"direction: rtl; text-align: right; font-size: 20px\">\n",
    "    Iterating (حلقه زدن روی آرایه‌ها)<br>\n",
    "    می‌توان با for روی آرایه تک بعدی یا چندبعدی حلقه زد:\n",
    "</div>"
   ]
  },
  {
   "cell_type": "code",
   "execution_count": 41,
   "id": "d24f5c35-3154-46eb-8a3f-f4dc741db8f2",
   "metadata": {},
   "outputs": [
    {
     "name": "stdout",
     "output_type": "stream",
     "text": [
      "20\n",
      "30\n",
      "40\n",
      "50\n",
      "60\n",
      "70\n",
      "80\n"
     ]
    }
   ],
   "source": [
    "for x in a:\n",
    "    print(x)"
   ]
  },
  {
   "cell_type": "markdown",
   "id": "dce8c844-a885-4d1d-8993-fb9e9a931db5",
   "metadata": {},
   "source": [
    "<div style=\"direction: rtl; text-align: right; font-size: 20px\">\n",
    "    برای آرایه‌های چندبعدی، هر بار یک ردیف داده می‌شود:\n",
    "</div>"
   ]
  },
  {
   "cell_type": "code",
   "execution_count": 42,
   "id": "715c9614-c802-4eb8-99b8-7e73981bb8c3",
   "metadata": {},
   "outputs": [
    {
     "name": "stdout",
     "output_type": "stream",
     "text": [
      "[1 2 3]\n",
      "[4 5 6]\n"
     ]
    }
   ],
   "source": [
    "for row in b:\n",
    "    print(row)"
   ]
  },
  {
   "cell_type": "markdown",
   "id": "10aa1103-d80f-41eb-96a7-e7b288e4b8df",
   "metadata": {},
   "source": [
    "<div style=\"direction: rtl; text-align: right; font-size: 20px\">\n",
    "    اگر بخواهیم روی همه عناصر تک تک حرکت کنیم، از flat استفاده می‌کنیم:\n",
    "</div>"
   ]
  },
  {
   "cell_type": "code",
   "execution_count": 43,
   "id": "ed5d167f-82c5-4256-98e6-88e21c1090a4",
   "metadata": {},
   "outputs": [
    {
     "name": "stdout",
     "output_type": "stream",
     "text": [
      "1\n",
      "2\n",
      "3\n",
      "4\n",
      "5\n",
      "6\n"
     ]
    }
   ],
   "source": [
    "for element in b.flat:\n",
    "    print(element)"
   ]
  },
  {
   "cell_type": "markdown",
   "id": "12987f9a-5016-4f03-9dd2-16545d9d0540",
   "metadata": {},
   "source": [
    " <div style=\"direction: rtl; text-align: right; font-size: 30px\">\n",
    "     چگونه از داده‌های موجود یک آرایه بسازیم\n",
    "</div>"
   ]
  },
  {
   "cell_type": "markdown",
   "id": "22786e15-2329-426d-b04b-eccafa2d3fd4",
   "metadata": {},
   "source": [
    "<div style=\"direction: rtl; text-align: right; font-size: 25px\">\n",
    "    استفاده از تابع np.array()\n",
    "</div>"
   ]
  },
  {
   "cell_type": "markdown",
   "id": "bdec729b-ad38-4532-afd8-608f3c9b6eaa",
   "metadata": {},
   "source": [
    "<div style=\"direction: rtl; text-align: right; font-size: 20px\">\n",
    "    تابع اصلی برای این کار:\n",
    "</div>"
   ]
  },
  {
   "cell_type": "markdown",
   "id": "76f88761-33f0-4931-8afa-fdbc1a4e734d",
   "metadata": {},
   "source": [
    "<div style=\"direction: ltr; text-align: left; font-size: 20px\">\n",
    "    numpy.array(object)\n",
    "</div>"
   ]
  },
  {
   "cell_type": "markdown",
   "id": "8d83937d-1c1b-4475-83df-439511d56017",
   "metadata": {},
   "source": [
    "<div style=\"direction: rtl; text-align: right; font-size: 20px\">\n",
    "    که در آن object می‌تونه لیست یا تاپل یا ترکیبی از آن‌ها باشه.\n",
    "</div>"
   ]
  },
  {
   "cell_type": "markdown",
   "id": "92a64057-b582-4f31-ad94-be1bf2e5bc6a",
   "metadata": {},
   "source": [
    "<div style=\"direction: rtl; text-align: right; font-size: 20px\">\n",
    "    لیست یک‌بعدی\n",
    "</div>"
   ]
  },
  {
   "cell_type": "code",
   "execution_count": 44,
   "id": "c7a81d46-6512-4c0b-9956-bb98875d61aa",
   "metadata": {},
   "outputs": [
    {
     "name": "stdout",
     "output_type": "stream",
     "text": [
      "[1 2 3]\n"
     ]
    }
   ],
   "source": [
    "data = [1, 2, 3]\n",
    "arr = np.array(data)\n",
    "print(arr)\n"
   ]
  },
  {
   "cell_type": "markdown",
   "id": "00b2039b-a833-4148-9512-5b05dafed852",
   "metadata": {},
   "source": [
    "<div style=\"direction: rtl; text-align: right; font-size: 20px\">\n",
    "     لیست دوبعدی\n",
    "</div>"
   ]
  },
  {
   "cell_type": "code",
   "execution_count": 45,
   "id": "2abaf977-508f-4df2-a5c7-711d61be9679",
   "metadata": {},
   "outputs": [
    {
     "name": "stdout",
     "output_type": "stream",
     "text": [
      "[[1 2]\n",
      " [3 4]]\n"
     ]
    }
   ],
   "source": [
    "data = [[1, 2], [3, 4]]\n",
    "arr = np.array(data)\n",
    "print(arr)"
   ]
  },
  {
   "cell_type": "markdown",
   "id": "098a6f66-c14e-4391-994c-f8a9977d0092",
   "metadata": {},
   "source": [
    "<div style=\"direction: rtl; text-align: right; font-size: 20px\">\n",
    "    تاپل یا ترکیب لیست و تاپل\n",
    "</div>"
   ]
  },
  {
   "cell_type": "code",
   "execution_count": 46,
   "id": "9ba942ac-048e-48a6-9d4d-6b945cd70299",
   "metadata": {},
   "outputs": [
    {
     "name": "stdout",
     "output_type": "stream",
     "text": [
      "[1 2 3]\n",
      "[[1 2]\n",
      " [3 4]]\n"
     ]
    }
   ],
   "source": [
    "data = (1, 2, 3)\n",
    "arr = np.array(data)\n",
    "print(arr) \n",
    "\n",
    "mixed = [(1, 2), (3, 4)]\n",
    "arr2 = np.array(mixed)\n",
    "print(arr2)"
   ]
  },
  {
   "cell_type": "markdown",
   "id": "977df9fb-a60c-4334-b201-95f26686abc0",
   "metadata": {},
   "source": [
    "<div style=\"direction: rtl; text-align: right; font-size: 30px\">\n",
    "    عملیات پایه‌ای در NumPy\n",
    "</div>"
   ]
  },
  {
   "cell_type": "markdown",
   "id": "c37f3c60-b632-4864-8369-10ee2e0773f2",
   "metadata": {},
   "source": [
    "<div style=\"direction: rtl; text-align: right; font-size: 20px\">\n",
    "    وقتی روی آرایه‌ها عمل جمع، ضرب و... انجام می‌دی، NumPy این کار رو عنصری (element-wise) انجام می‌ده؛ یعنی روی تک‌تک عنصرها.\n",
    "</div>"
   ]
  },
  {
   "cell_type": "markdown",
   "id": "fe18c997-ac38-4a0a-a8e8-7fca53a13a85",
   "metadata": {},
   "source": [
    "<div style=\"direction: rtl; text-align: right; font-size: 20px\">\n",
    "     جمع، تفریق، ضرب، تقسیم:\n",
    "</div>"
   ]
  },
  {
   "cell_type": "code",
   "execution_count": 47,
   "id": "d0ffa3e2-776b-44a8-bd1d-88cc10004dff",
   "metadata": {},
   "outputs": [
    {
     "name": "stdout",
     "output_type": "stream",
     "text": [
      "[5 7 9]\n",
      "[-3 -3 -3]\n",
      "[ 4 10 18]\n",
      "[0.25 0.4  0.5 ]\n"
     ]
    }
   ],
   "source": [
    "a = np.array([1, 2, 3])\n",
    "b = np.array([4, 5, 6])\n",
    "\n",
    "print(a + b)\n",
    "print(a - b)\n",
    "print(a * b) \n",
    "print(a / b) "
   ]
  },
  {
   "cell_type": "markdown",
   "id": "46438b61-0fb8-44f1-8942-8332bf58e687",
   "metadata": {},
   "source": [
    "<div style=\"direction: rtl; text-align: right; font-size: 20px\">\n",
    "    توابع آماری سریع:\n",
    "</div>"
   ]
  },
  {
   "cell_type": "code",
   "execution_count": 48,
   "id": "4bbeaf8b-1c1f-40cf-84a4-80d8c5a7b2b8",
   "metadata": {},
   "outputs": [
    {
     "name": "stdout",
     "output_type": "stream",
     "text": [
      "10\n",
      "1\n",
      "4\n",
      "2.5\n",
      "[ 1  3  6 10]\n"
     ]
    }
   ],
   "source": [
    "a = np.array([1, 2, 3, 4])\n",
    "\n",
    "print(a.sum()) \n",
    "print(a.min()) \n",
    "print(a.max())   \n",
    "print(a.mean()) \n",
    "print(a.cumsum()) "
   ]
  },
  {
   "cell_type": "markdown",
   "id": "6ae4c778-8337-4bfc-829b-501f596d8856",
   "metadata": {},
   "source": [
    "<div style=\"direction: rtl; text-align: right; font-size: 20px\">\n",
    "     توان و سینوس \n",
    "</div>"
   ]
  },
  {
   "cell_type": "code",
   "execution_count": 49,
   "id": "a7c35632-c334-416a-9cf8-614c9d5c83fc",
   "metadata": {},
   "outputs": [
    {
     "name": "stdout",
     "output_type": "stream",
     "text": [
      "[ 1  4  9 16]\n",
      "[ 0.84147098  0.90929743  0.14112001 -0.7568025 ]\n"
     ]
    }
   ],
   "source": [
    "print(a ** 2)   \n",
    "print(np.sin(a))        "
   ]
  },
  {
   "cell_type": "markdown",
   "id": "0b4e4b29-f894-4fa0-bcac-daab13e19962",
   "metadata": {},
   "source": [
    "<div style=\"direction: rtl; text-align: right; font-size: 20px\">\n",
    "    ضرب ماتریسی: @ یا dot()\n",
    "</div>"
   ]
  },
  {
   "cell_type": "code",
   "execution_count": 50,
   "id": "eb4bef73-856a-42c9-851b-184ebb6020d3",
   "metadata": {},
   "outputs": [
    {
     "name": "stdout",
     "output_type": "stream",
     "text": [
      "[[ 4  4]\n",
      " [10  8]]\n",
      "[[ 4  4]\n",
      " [10  8]]\n"
     ]
    }
   ],
   "source": [
    "A = np.array([[1, 2], [3, 4]])\n",
    "B = np.array([[2, 0], [1, 2]])\n",
    "\n",
    "print(A @ B)\n",
    "print(np.dot(A, B)) # همان بالا"
   ]
  },
  {
   "cell_type": "markdown",
   "id": "753b4aea-b4db-49df-b6a5-3f8a40bf0c5d",
   "metadata": {},
   "source": [
    "<div style=\"direction: rtl; text-align: right; font-size: 20px\">\n",
    "    عملیات روی محور خاص:\n",
    "</div>"
   ]
  },
  {
   "cell_type": "code",
   "execution_count": 51,
   "id": "e9576e13-266b-4d48-be9d-710d6303e323",
   "metadata": {},
   "outputs": [
    {
     "data": {
      "text/plain": [
       "array([3, 7])"
      ]
     },
     "execution_count": 51,
     "metadata": {},
     "output_type": "execute_result"
    }
   ],
   "source": [
    "b = np.array([[1, 2], [3, 4]])\n",
    "\n",
    "b.sum(axis=0)  # جمع ستون‌ها\n",
    "b.sum(axis=1)  #  جمع سطرها\n"
   ]
  },
  {
   "cell_type": "markdown",
   "id": "8d6e399e-69a9-49b9-ab40-b7e28c6a8107",
   "metadata": {},
   "source": [
    "<div style=\"direction: rtl; text-align: right; font-size: 20px\">\n",
    "    مقایسه:\n",
    "</div>"
   ]
  },
  {
   "cell_type": "code",
   "execution_count": 52,
   "id": "f3ef079c-550f-479f-85bd-133bc4c63c44",
   "metadata": {},
   "outputs": [
    {
     "name": "stdout",
     "output_type": "stream",
     "text": [
      "[False False  True  True]\n",
      "[False False  True False]\n"
     ]
    }
   ],
   "source": [
    "a = np.array([1, 2, 4, 5])\n",
    "b = np.array([3, 3, 4, 6])\n",
    "\n",
    "print(a > 2) \n",
    "print(a == b)  "
   ]
  },
  {
   "cell_type": "markdown",
   "id": "524b0d6f-9a3a-4ffd-a3d7-ef8fd2efa20b",
   "metadata": {},
   "source": [
    "<div style=\"direction: rtl; text-align: right; font-size: 30px\">\n",
    "     Universal Functions (توابع جهانی یا ufunc)\n",
    "</div>"
   ]
  },
  {
   "cell_type": "markdown",
   "id": "1ece03ac-4f0f-46c8-ae99-6ab43d1f3b9b",
   "metadata": {},
   "source": [
    "<div style=\"direction: rtl; text-align: right; font-size: 20px\">\n",
    "    توابعی مثل sin, exp, sqrt, و غیره که روی هر عنصر آرایه به‌صورت مستقل عمل می‌کنن\n",
    "</div>"
   ]
  },
  {
   "cell_type": "code",
   "execution_count": 53,
   "id": "0a81e8a0-9a4e-4e63-aea7-a7b5931d7c06",
   "metadata": {},
   "outputs": [],
   "source": [
    "a = np.array([1, 2, 3])"
   ]
  },
  {
   "cell_type": "markdown",
   "id": "549ab52c-e6bc-437f-bcf8-235805bcec9d",
   "metadata": {},
   "source": [
    "<div style=\"direction: rtl; text-align: right; font-size: 20px\">\n",
    "     تابع سینوس:\n",
    "</div>"
   ]
  },
  {
   "cell_type": "code",
   "execution_count": 54,
   "id": "c6d160d1-b3af-469b-9700-ff6aced1cb17",
   "metadata": {},
   "outputs": [
    {
     "data": {
      "text/plain": [
       "array([0.84147098, 0.90929743, 0.14112001])"
      ]
     },
     "execution_count": 54,
     "metadata": {},
     "output_type": "execute_result"
    }
   ],
   "source": [
    "np.sin(a)"
   ]
  },
  {
   "cell_type": "markdown",
   "id": "c8637bd1-710d-4961-a0f8-eef9247d596f",
   "metadata": {},
   "source": [
    "<div style=\"direction: rtl; text-align: right; font-size: 20px\">\n",
    "    توان:\n",
    "</div>"
   ]
  },
  {
   "cell_type": "code",
   "execution_count": 55,
   "id": "3fe2aa61-b566-4f39-8a5c-72782cf0c2d3",
   "metadata": {},
   "outputs": [
    {
     "data": {
      "text/plain": [
       "array([ 2.71828183,  7.3890561 , 20.08553692])"
      ]
     },
     "execution_count": 55,
     "metadata": {},
     "output_type": "execute_result"
    }
   ],
   "source": [
    "np.exp(a)"
   ]
  },
  {
   "cell_type": "markdown",
   "id": "7fa50400-2ded-4798-89ef-ee8a28a44ab0",
   "metadata": {},
   "source": [
    "<div style=\"direction: rtl; text-align: right; font-size: 20px\">\n",
    "     جذر:\n",
    "</div>"
   ]
  },
  {
   "cell_type": "code",
   "execution_count": 56,
   "id": "4020add8-8031-4639-9a78-08dc5b60db0c",
   "metadata": {},
   "outputs": [
    {
     "data": {
      "text/plain": [
       "array([1.        , 1.41421356, 1.73205081])"
      ]
     },
     "execution_count": 56,
     "metadata": {},
     "output_type": "execute_result"
    }
   ],
   "source": [
    "np.sqrt(a) "
   ]
  },
  {
   "cell_type": "markdown",
   "id": "beaecc11-5d94-4d37-99fe-7298d825211f",
   "metadata": {},
   "source": [
    "<div style=\"direction: rtl; text-align: right; font-size: 20px\">\n",
    "    لگاریتم :\n",
    "</div>"
   ]
  },
  {
   "cell_type": "code",
   "execution_count": 57,
   "id": "73349a6e-5293-4f36-8ddc-bb49941c61f2",
   "metadata": {},
   "outputs": [
    {
     "data": {
      "text/plain": [
       "array([0.        , 0.69314718, 1.09861229])"
      ]
     },
     "execution_count": 57,
     "metadata": {},
     "output_type": "execute_result"
    }
   ],
   "source": [
    "np.log(a)"
   ]
  },
  {
   "cell_type": "markdown",
   "id": "0bc59e65-6316-4078-9b92-dcdd2c10a5d0",
   "metadata": {},
   "source": [
    "<div style=\"direction: rtl; text-align: right; font-size: 20px\">\n",
    "     ویژگی ufunc‌ها:<br>\n",
    "    - سریع‌تر از حلقه‌های پایتون (زیرساخت C دارند)<br>\n",
    "    - روی کل آرایه عمل می‌کنن (نیازی به for نیست)<br>\n",
    "    - قابل ترکیب با هم هستن\n",
    "</div>"
   ]
  },
  {
   "cell_type": "code",
   "execution_count": 58,
   "id": "56e50a1f-7154-4fb9-9d39-7c7ef3bb2012",
   "metadata": {},
   "outputs": [
    {
     "data": {
      "text/plain": [
       "array([1.88673072, 2.88068629, 4.49740558])"
      ]
     },
     "execution_count": 58,
     "metadata": {},
     "output_type": "execute_result"
    }
   ],
   "source": [
    "np.sqrt(np.exp(a) + np.sin(a))"
   ]
  },
  {
   "cell_type": "markdown",
   "id": "5e878e04-eeaf-4f90-a651-3029b95fb87a",
   "metadata": {},
   "source": [
    "<div style=\"direction: rtl; text-align: right; font-size: 30px\">\n",
    "    توابع مهم و پیشرفته NumPy\n",
    "</div>"
   ]
  },
  {
   "cell_type": "markdown",
   "id": "ceed5766-5810-4d3d-8dde-11c5463ebc8e",
   "metadata": {},
   "source": [
    "<div style=\"direction: rtl; text-align: right; font-size: 20px\">\n",
    "     آمار و ریاضیات پایه\n",
    "</div>"
   ]
  },
  {
   "cell_type": "code",
   "execution_count": 59,
   "id": "56f1e718-92d3-4800-91c1-a4f3c6f239d9",
   "metadata": {},
   "outputs": [
    {
     "name": "stdout",
     "output_type": "stream",
     "text": [
      "10\n",
      "2.5\n",
      "2.5\n",
      "2.5\n",
      "1.118033988749895\n",
      "1.25\n",
      "1\n",
      "4\n",
      "0\n",
      "3\n",
      "[2 2 3 3]\n",
      "[ 1  3  6 10]\n",
      "[ 1  2  6 24]\n",
      "[1 1 1]\n"
     ]
    }
   ],
   "source": [
    "b = np.array([1, 2, 3, 4])\n",
    "\n",
    "print(np.sum(b))         # جمع کل عناصر \n",
    "print(np.mean(b))        # میانگین\n",
    "print(np.average(b))     # میانگین\n",
    "print(np.median(b))      # میانه\n",
    "print(np.std(b))         # انحراف معیار\n",
    "print(np.var(b))         # واریانس\n",
    "print(np.min(b))         # کمینه\n",
    "print(np.max(b))         # بیشینه\n",
    "print(np.argmin(b))      # اندیس کمینه\n",
    "print(np.argmax(b))      # اندیس بیشینه\n",
    "print(np.clip(b, 2, 3))  # محدود کردن مقدارها به بازه مشخص\n",
    "print(np.cumsum(b))      # مجموع تجمعی\n",
    "print(np.cumprod(b))     # حاصل‌ضرب تجمعی\n",
    "print(np.diff(b))        # اختلاف بین عناصر پشت‌سر‌هم"
   ]
  },
  {
   "cell_type": "markdown",
   "id": "ab15fdf0-4b28-4994-91d7-714696e242d1",
   "metadata": {},
   "source": [
    "<div style=\"direction: rtl; text-align: right; font-size: 20px\">\n",
    " توابع منطقی و شرطی\n",
    "</div>"
   ]
  },
  {
   "cell_type": "markdown",
   "id": "373cac4b-8cac-418e-8d05-905c1cfd220e",
   "metadata": {},
   "source": [
    "<div style=\"direction: rtl; text-align: right; font-size: 18px\">\n",
    "    all : بررسی می‌کنه آیا همه عناصر True هستن\n",
    "    <br>\n",
    "    any : بررسی می‌کنه آیا حداقل یک عنصر True هست\n",
    "    <br>\n",
    "    where(cond, x, y) : اگر شرط cond برقرار بود، x، وگرنه y\n",
    "    <br>\n",
    "    nonzero : اندیس عناصر غیر صفر\n",
    "</div>"
   ]
  },
  {
   "cell_type": "code",
   "execution_count": 60,
   "id": "cc97f28b-7129-40e9-b258-b650d0aaa24e",
   "metadata": {},
   "outputs": [
    {
     "name": "stdout",
     "output_type": "stream",
     "text": [
      "False\n",
      "True\n",
      "[ 0 10 10]\n",
      "(array([1, 2]),)\n"
     ]
    }
   ],
   "source": [
    "a = np.array([0, 1, 2])\n",
    "\n",
    "print(np.all(a))   \n",
    "print(np.any(a))   \n",
    "print(np.where(a > 0, 10, 0))   \n",
    "print(np.nonzero(a))  "
   ]
  },
  {
   "cell_type": "markdown",
   "id": "a4f59e96-a379-4d00-b644-07667b4fccb5",
   "metadata": {},
   "source": [
    "<div style=\"direction: rtl; text-align: right; font-size: 20px\">\n",
    "    مرتب‌سازی و ایندکس\n",
    "</div>"
   ]
  },
  {
   "cell_type": "markdown",
   "id": "cfa174c3-d556-4d5c-981c-1c421d8689d9",
   "metadata": {},
   "source": [
    "<div style=\"direction: rtl; text-align: right; font-size: 15px; color:red\">\n",
    "بالاتر راجبش صحبت کرده بودیم\n",
    "</div>"
   ]
  },
  {
   "cell_type": "code",
   "execution_count": 61,
   "id": "93e7fe87-987e-43af-8a9e-434062dea75a",
   "metadata": {},
   "outputs": [
    {
     "name": "stdout",
     "output_type": "stream",
     "text": [
      "[1 2 3]\n",
      "[1 2 0]\n",
      "[0 2 1]\n"
     ]
    }
   ],
   "source": [
    "c = np.array([3, 1, 2])\n",
    "\n",
    "print(np.sort(c))   # مرتب‌سازی مستقیم آرایه\n",
    "print(np.argsort(c))   # مرتب‌سازی غیرمستقیم؛ خروجی: اندیس‌های مرتب‌شده\n",
    "\n",
    "name = ['ali', 'reza', 'mona']\n",
    "age = [25, 22, 25]\n",
    "print(np.lexsort((age, name)))  # مرتب‌سازی پایدار با چند کلید (مثلاً نام + سن)"
   ]
  },
  {
   "cell_type": "markdown",
   "id": "6bcabb62-8760-44b5-877c-82eb63e3e710",
   "metadata": {},
   "source": [
    "<div style=\"direction: rtl; text-align: right; font-size: 20px\">\n",
    "    توابع ماتریسی و برداری\n",
    "</div>"
   ]
  },
  {
   "cell_type": "code",
   "execution_count": 62,
   "id": "05652a29-7fd7-4973-b788-bb6387173f5f",
   "metadata": {},
   "outputs": [
    {
     "name": "stdout",
     "output_type": "stream",
     "text": [
      "[[19 22]\n",
      " [43 50]]\n",
      "11\n",
      "11\n",
      "[[3 4]\n",
      " [6 8]]\n",
      "[0 0 1]\n",
      "5\n",
      "[[1 3]\n",
      " [2 4]]\n"
     ]
    }
   ],
   "source": [
    "A = np.array([[1, 2], [3, 4]])\n",
    "B = np.array([[5, 6], [7, 8]])\n",
    "\n",
    "print(np.dot(A, B))   # ضرب ماتریسی یا داخلی\n",
    "print(np.vdot([1, 2], [3, 4]))   # ضرب داخلی (بردارهای ۱بعدی)\n",
    "print(np.inner([1, 2], [3, 4]))   # ضرب داخلی معمولی\n",
    "print(np.outer([1, 2], [3, 4]))   # ضرب خارجی (بردار ۱ × بردار ۲)\n",
    "print(np.cross([1, 0, 0], [0, 1, 0]))   # ضرب برداری (در فضای ۳بعدی)\n",
    "print(np.trace(A))   # مجموع قطر اصلی ماتریس\n",
    "print(np.transpose(A))   # ترانهاده: جابجایی سطر و ستون"
   ]
  },
  {
   "cell_type": "markdown",
   "id": "2421dc71-d042-4fba-86ee-d1508134621b",
   "metadata": {},
   "source": [
    "<div style=\"direction: rtl; text-align: right; font-size: 20px\">\n",
    "    توابع عددی پایه\n",
    "</div>"
   ]
  },
  {
   "cell_type": "code",
   "execution_count": 63,
   "id": "6d923328-e9a5-4813-a97c-80ab07b6f436",
   "metadata": {},
   "outputs": [
    {
     "name": "stdout",
     "output_type": "stream",
     "text": [
      "[1. 2. 3.]\n",
      "[2. 3. 4.]\n",
      "[1. 2. 4.]\n",
      "[1. 3.]\n",
      "[1.-2.j 3.-4.j]\n",
      "[-2 -1 -2]\n"
     ]
    }
   ],
   "source": [
    "d = np.array([1.2, 2.5, 3.8])\n",
    "\n",
    "print(np.floor(d))   # گرد به پایین\n",
    "print(np.ceil(d))    # گرد به بالا\n",
    "print(np.round(d))   # گرد کردن به نزدیک‌ترین عدد صحیح\n",
    "\n",
    "z = np.array([1+2j, 3+4j])\n",
    "print(np.real(z))   # قسمت حقیقی عدد مختلط\n",
    "print(np.conj(z))   # مزدوج مختلط\n",
    "\n",
    "x = np.array([1, 0, 1])\n",
    "print(np.invert(x))   # معکوس بیت‌ها (برای بولی یا اعداد صحیح)"
   ]
  },
  {
   "cell_type": "markdown",
   "id": "47de6266-2d7f-4d10-9791-9701f04f7c48",
   "metadata": {},
   "source": [
    "<div style=\"direction: rtl; text-align: right; font-size: 20px\">\n",
    "    تحلیل آماری\n",
    "</div>"
   ]
  },
  {
   "cell_type": "code",
   "execution_count": 64,
   "id": "1ab2f2e9-531c-4536-ae30-7adb540c7191",
   "metadata": {},
   "outputs": [
    {
     "name": "stdout",
     "output_type": "stream",
     "text": [
      "[[1. 1.]\n",
      " [1. 1.]]\n",
      "[[2. 2.]\n",
      " [2. 2.]]\n"
     ]
    }
   ],
   "source": [
    "e = np.array([[1, 2], [3, 4]])\n",
    "f = np.array([[1, 3], [2, 4]])\n",
    "\n",
    "print(np.corrcoef(e[0], e[1]))   # ضریب همبستگی\n",
    "print(np.cov(f))                 # ماتریس کوواریانس"
   ]
  },
  {
   "cell_type": "markdown",
   "id": "e0b75307-e002-432d-90e0-e0dd995fb010",
   "metadata": {},
   "source": [
    "<div style=\"direction: rtl; text-align: right; font-size: 20px\">\n",
    "توابع پیشرفته و قابل سفارشی‌سازی\n",
    "</div>"
   ]
  },
  {
   "cell_type": "code",
   "execution_count": 65,
   "id": "195a8d87-bd61-4569-91b2-83cd29b0e133",
   "metadata": {},
   "outputs": [
    {
     "name": "stdout",
     "output_type": "stream",
     "text": [
      "[ 6 15]\n"
     ]
    }
   ],
   "source": [
    "arr = np.array([[1, 2, 3], [4, 5, 6]])\n",
    "# اجرای تابع func روی هر سطر یا ستون\n",
    "print(np.apply_along_axis(np.sum, axis=1, arr=arr)) "
   ]
  },
  {
   "cell_type": "code",
   "execution_count": 66,
   "id": "fe901662-a887-4148-9c82-6cf41b829c20",
   "metadata": {},
   "outputs": [
    {
     "name": "stdout",
     "output_type": "stream",
     "text": [
      "[1 4 9]\n"
     ]
    }
   ],
   "source": [
    "# تبدیل یک تابع ساده پایتون به تابعی که روی آرایه‌ها کار کنه\n",
    "def square(x): return x * x\n",
    "vec_square = np.vectorize(square)\n",
    "print(vec_square(np.array([1, 2, 3])))  # [1 4 9]"
   ]
  },
  {
   "cell_type": "markdown",
   "id": "9679456e-2660-4db8-aa68-560121875286",
   "metadata": {},
   "source": [
    "<div style=\"direction: rtl; text-align: right; font-size: 30px\">\n",
    "    ماتریس‌های خاص\n",
    "</div>"
   ]
  },
  {
   "cell_type": "markdown",
   "id": "550f9c5f-e618-4fad-ac93-dc2d7e1395d1",
   "metadata": {},
   "source": [
    "<div style=\"direction: rtl; text-align: right; font-size: 20px\">\n",
    "    ماتریس واحد (قطری):\n",
    "</div>"
   ]
  },
  {
   "cell_type": "code",
   "execution_count": 67,
   "id": "d115456e-2ebb-48a0-a59a-e0be53634559",
   "metadata": {},
   "outputs": [
    {
     "data": {
      "text/plain": [
       "array([[1., 0., 0.],\n",
       "       [0., 1., 0.],\n",
       "       [0., 0., 1.]])"
      ]
     },
     "execution_count": 67,
     "metadata": {},
     "output_type": "execute_result"
    }
   ],
   "source": [
    "np.eye(3)   # ماتریس همانی ۳×۳"
   ]
  },
  {
   "cell_type": "markdown",
   "id": "31792df8-c19c-4de6-b683-b2e42d7b24cb",
   "metadata": {},
   "source": [
    "<div style=\"direction: rtl; text-align: right; font-size: 20px\">\n",
    "    ساخت ماتریس با np.full:\n",
    "</div>"
   ]
  },
  {
   "cell_type": "code",
   "execution_count": 68,
   "id": "3816b388-d9f7-4e17-9c33-f0274036c3c1",
   "metadata": {},
   "outputs": [
    {
     "data": {
      "text/plain": [
       "array([[7, 7, 7],\n",
       "       [7, 7, 7]])"
      ]
     },
     "execution_count": 68,
     "metadata": {},
     "output_type": "execute_result"
    }
   ],
   "source": [
    "np.full((2, 3), 7)   # ماتریس ۲×۳ پرشده با ۷"
   ]
  },
  {
   "cell_type": "code",
   "execution_count": 69,
   "id": "b752e451-5185-4265-afde-c6eb02bb0342",
   "metadata": {},
   "outputs": [
    {
     "data": {
      "text/plain": [
       "array([[99, 99, 99],\n",
       "       [99, 99, 99],\n",
       "       [99, 99, 99]])"
      ]
     },
     "execution_count": 69,
     "metadata": {},
     "output_type": "execute_result"
    }
   ],
   "source": [
    "# ماتریس واحد با مقدار دلخواه\n",
    "np.full((3, 3), fill_value=99)"
   ]
  },
  {
   "cell_type": "markdown",
   "id": "e87225db-707d-4498-bcd9-0e301241acd6",
   "metadata": {},
   "source": [
    "<div style=\"direction: rtl; text-align: right; font-size: 20px\">\n",
    "    ماتریس از بازه عددی:\n",
    "</div>"
   ]
  },
  {
   "cell_type": "code",
   "execution_count": 70,
   "id": "ec125e0b-13bc-47f1-83d5-d76712321741",
   "metadata": {},
   "outputs": [
    {
     "data": {
      "text/plain": [
       "array([[1, 2, 3],\n",
       "       [4, 5, 6]])"
      ]
     },
     "execution_count": 70,
     "metadata": {},
     "output_type": "execute_result"
    }
   ],
   "source": [
    "np.arange(1, 7).reshape(2, 3)"
   ]
  },
  {
   "cell_type": "markdown",
   "id": "56e6c114-6ec2-4688-a123-680a41b297f0",
   "metadata": {},
   "source": [
    "<div style=\"direction: rtl; text-align: right; font-size: 20px\">\n",
    "    ماتریس مثلثی بالا و پایین\n",
    "</div>"
   ]
  },
  {
   "cell_type": "code",
   "execution_count": 71,
   "id": "a7eefdff-96c8-4ac1-b49c-7e56f94a93b3",
   "metadata": {},
   "outputs": [
    {
     "name": "stdout",
     "output_type": "stream",
     "text": [
      "A1 : [[1 2 3]\n",
      " [0 5 6]\n",
      " [0 0 9]]\n",
      "A2 : [[1 0 0]\n",
      " [4 5 0]\n",
      " [7 8 9]]\n"
     ]
    }
   ],
   "source": [
    "A = np.array([[1, 2, 3],\n",
    "              [4, 5, 6],\n",
    "              [7, 8, 9]])\n",
    "\n",
    "# مثلثی بالا (بالای قطر اصلی نگه می‌مونه)\n",
    "print(\"A1 :\",np.triu(A))\n",
    "\n",
    "# مثلثی پایین (پایین قطر اصلی نگه می‌مونه)\n",
    "print(\"A2 :\", np.tril(A))\n"
   ]
  },
  {
   "cell_type": "markdown",
   "id": "2039fe20-c93d-45ae-84f1-42de4fb72308",
   "metadata": {},
   "source": [
    "<div style=\"direction: rtl; text-align: right; font-size: 20px\">\n",
    "    ماتریس قطری (از یک لیست)\n",
    "</div>"
   ]
  },
  {
   "cell_type": "code",
   "execution_count": 72,
   "id": "61de6d71-f228-4ff8-9d1f-4f12ae1df6b9",
   "metadata": {},
   "outputs": [
    {
     "data": {
      "text/plain": [
       "array([[10,  0,  0],\n",
       "       [ 0, 20,  0],\n",
       "       [ 0,  0, 30]])"
      ]
     },
     "execution_count": 72,
     "metadata": {},
     "output_type": "execute_result"
    }
   ],
   "source": [
    "np.diag([10, 20, 30])"
   ]
  },
  {
   "cell_type": "markdown",
   "id": "2f1d0541-b32a-4252-befb-f2057608dde1",
   "metadata": {},
   "source": [
    "<div style=\"direction: rtl; text-align: right; font-size: 20px\">\n",
    "ماتریس چرخشی (rotation matrix)\n",
    "</div>"
   ]
  },
  {
   "cell_type": "code",
   "execution_count": 73,
   "id": "6f58abfa-02aa-4075-a80a-5c59db02bae7",
   "metadata": {},
   "outputs": [
    {
     "name": "stdout",
     "output_type": "stream",
     "text": [
      "[[ 0.70710678 -0.70710678]\n",
      " [ 0.70710678  0.70710678]]\n"
     ]
    }
   ],
   "source": [
    "#  مثلاً در فضای دوبعدی\n",
    "theta = np.pi / 4  # زاویه ۴۵ درجه\n",
    "R = np.array([\n",
    "    [np.cos(theta), -np.sin(theta)],\n",
    "    [np.sin(theta),  np.cos(theta)]\n",
    "])\n",
    "\n",
    "print(R)"
   ]
  },
  {
   "cell_type": "markdown",
   "id": "8320fcde-bd04-4522-8aeb-0da0eadac97a",
   "metadata": {},
   "source": [
    "<div style=\"direction: rtl; text-align: right; font-size: 20px\">\n",
    "    ماتریس تکرارشونده (np.tile)\n",
    "</div>"
   ]
  },
  {
   "cell_type": "code",
   "execution_count": 74,
   "id": "de903c3a-d6b0-4b1f-a3fc-1db380ad85cd",
   "metadata": {},
   "outputs": [
    {
     "data": {
      "text/plain": [
       "array([[1, 2, 1, 2, 1, 2],\n",
       "       [1, 2, 1, 2, 1, 2]])"
      ]
     },
     "execution_count": 74,
     "metadata": {},
     "output_type": "execute_result"
    }
   ],
   "source": [
    "a = np.array([[1, 2]])\n",
    "np.tile(a, (2, 3))"
   ]
  },
  {
   "cell_type": "markdown",
   "id": "84c08dce-334c-4093-a921-618739552acd",
   "metadata": {},
   "source": [
    "<div style=\"direction: rtl; text-align: right; font-size: 20px\">\n",
    "    ماتریس همانی n×n\n",
    "</div>"
   ]
  },
  {
   "cell_type": "code",
   "execution_count": 75,
   "id": "cd6a1568-c9d5-46ce-bee5-9fc74ea3d5be",
   "metadata": {},
   "outputs": [
    {
     "data": {
      "text/plain": [
       "array([[1., 0., 0., 0.],\n",
       "       [0., 1., 0., 0.],\n",
       "       [0., 0., 1., 0.],\n",
       "       [0., 0., 0., 1.]])"
      ]
     },
     "execution_count": 75,
     "metadata": {},
     "output_type": "execute_result"
    }
   ],
   "source": [
    "np.identity(4)"
   ]
  },
  {
   "cell_type": "markdown",
   "id": "4d5a4474-6ca5-4b7b-b007-bac0eeb2829b",
   "metadata": {},
   "source": [
    "<div style=\"direction: rtl; text-align: right; font-size: 20px\">\n",
    "    ماتریس‌های تصادفی (برای یادگیری ماشین)\n",
    "</div>"
   ]
  },
  {
   "cell_type": "code",
   "execution_count": 76,
   "id": "eeac7179-827f-456f-9be0-23ff9f2a32a6",
   "metadata": {},
   "outputs": [
    {
     "data": {
      "text/plain": [
       "array([[0.86439042, 0.01250362, 0.04205901],\n",
       "       [0.74349884, 0.81923376, 0.97193366],\n",
       "       [0.75046601, 0.19517004, 0.90568777]])"
      ]
     },
     "execution_count": 76,
     "metadata": {},
     "output_type": "execute_result"
    }
   ],
   "source": [
    "np.random.rand(3, 3)  # بین ۰ و ۱"
   ]
  },
  {
   "cell_type": "code",
   "execution_count": 77,
   "id": "857f267e-4945-4819-9f18-f8aba61ec24e",
   "metadata": {},
   "outputs": [
    {
     "data": {
      "text/plain": [
       "array([[4, 0, 0],\n",
       "       [1, 3, 9],\n",
       "       [5, 5, 9]])"
      ]
     },
     "execution_count": 77,
     "metadata": {},
     "output_type": "execute_result"
    }
   ],
   "source": [
    "np.random.randint(0, 10, (3, 3))  # اعداد صحیح بین ۰ تا ۹"
   ]
  },
  {
   "cell_type": "markdown",
   "id": "b5464479-0b50-4baa-ac96-9172e4e512cd",
   "metadata": {},
   "source": [
    "<div style=\"direction: rtl; text-align: right; font-size: 30px\">\n",
    "    روش‌های مختلف برای تولید اعداد تصادفی\n",
    "</div>"
   ]
  },
  {
   "cell_type": "markdown",
   "id": "8e73e435-cacf-4cd8-b1ce-7bdd4f61f315",
   "metadata": {},
   "source": [
    "<div style=\"direction: rtl; text-align: right; font-size: 20px\">\n",
    "    اول باید ماژول زیر را  وارد کنید :\n",
    "</div>"
   ]
  },
  {
   "cell_type": "code",
   "execution_count": 78,
   "id": "d4af56bc-d519-4a5c-8349-07ee632c6f14",
   "metadata": {},
   "outputs": [],
   "source": [
    "import numpy as np\n",
    "rng = np.random.default_rng()  # سازنده تولیدکننده عدد تصادفی جدید"
   ]
  },
  {
   "cell_type": "markdown",
   "id": "ffa33753-f9ed-4d4b-900e-3a203da6a792",
   "metadata": {},
   "source": [
    "<div style=\"direction: rtl; text-align: right; font-size: 20px\">\n",
    "    اعداد شناور تصادفی بین ۰ تا ۱\n",
    "</div>"
   ]
  },
  {
   "cell_type": "code",
   "execution_count": 79,
   "id": "75c6cae6-ff61-4fbd-a044-4c4ecfdbec7c",
   "metadata": {},
   "outputs": [
    {
     "name": "stdout",
     "output_type": "stream",
     "text": [
      "0.5737654540406357\n",
      "[0.49788958 0.57193402 0.42517979 0.54031272 0.49295653]\n",
      "[[0.65480126 0.21351475 0.83477079]\n",
      " [0.00678398 0.54923909 0.54466316]]\n"
     ]
    }
   ],
   "source": [
    "print(rng.random())           # یک عدد تصادفی بین 0 و 1\n",
    "print(rng.random(5))          # آرایه ۱ بعدی با ۵ عدد\n",
    "print(rng.random((2, 3)))    # آرایه ۲×۳"
   ]
  },
  {
   "cell_type": "markdown",
   "id": "49227892-57e0-46b0-a02d-dbde1985045c",
   "metadata": {},
   "source": [
    "<div style=\"direction: rtl; text-align: right; font-size: 20px\">\n",
    "    اعداد صحیح تصادفی\n",
    "</div>"
   ]
  },
  {
   "cell_type": "code",
   "execution_count": 80,
   "id": "53549660-886d-473f-b3cf-d6259e5dfdf2",
   "metadata": {},
   "outputs": [
    {
     "name": "stdout",
     "output_type": "stream",
     "text": [
      "8\n",
      "[4 4 2 5 4]\n",
      "[[9 3 9]\n",
      " [1 7 7]]\n"
     ]
    }
   ],
   "source": [
    "print(rng.integers(1, 10))            # یک عدد صحیح بین 1 تا 9\n",
    "print(rng.integers(1, 10, size=5))    # ۵ عدد صحیح\n",
    "print(rng.integers(1, 10, size=(2,3)))  # ماتریس ۲×۳ از عدد صحیح"
   ]
  },
  {
   "cell_type": "markdown",
   "id": "703742e6-b623-41c5-bce8-9ac688843015",
   "metadata": {},
   "source": [
    "<div style=\"direction: rtl; text-align: right; font-size: 20px\">\n",
    "    توزیع نرمال (Gaussian)\n",
    "</div>"
   ]
  },
  {
   "cell_type": "code",
   "execution_count": 81,
   "id": "df7a879f-ab9f-4375-b02c-553731b34e89",
   "metadata": {},
   "outputs": [
    {
     "data": {
      "text/plain": [
       "array([ 0.76959391,  0.08456662, -1.22204367,  1.97062373,  1.78417642])"
      ]
     },
     "execution_count": 81,
     "metadata": {},
     "output_type": "execute_result"
    }
   ],
   "source": [
    "rng.normal(loc=0, scale=1, size=5)  # میانگین=0، انحراف معیار=1\n"
   ]
  },
  {
   "cell_type": "markdown",
   "id": "b0f3b374-9fb4-4f49-934f-94bb2d69ac58",
   "metadata": {},
   "source": [
    "<div style=\"direction: rtl; text-align: right; font-size: 20px\">\n",
    "توزیع گسسته (انتخاب تصادفی از لیست)\n",
    "</div>"
   ]
  },
  {
   "cell_type": "code",
   "execution_count": 82,
   "id": "e89e3c73-7902-4e69-a084-05e65359ba65",
   "metadata": {},
   "outputs": [
    {
     "data": {
      "text/plain": [
       "array([20, 10, 30, 20, 10])"
      ]
     },
     "execution_count": 82,
     "metadata": {},
     "output_type": "execute_result"
    }
   ],
   "source": [
    "rng.choice([10, 20, 30], size=5)     # انتخاب ۵ عدد از این لیست\n"
   ]
  },
  {
   "cell_type": "markdown",
   "id": "b95cea0f-ed8a-4f9d-82b6-9e78f88d4c54",
   "metadata": {},
   "source": [
    "<div style=\"direction: rtl; text-align: right; font-size: 20px\">\n",
    "   درهم‌ریزی (shuffle)\n",
    "</div>"
   ]
  },
  {
   "cell_type": "code",
   "execution_count": 83,
   "id": "2d3e728c-e90d-4958-bb79-3ba8a172a808",
   "metadata": {},
   "outputs": [
    {
     "name": "stdout",
     "output_type": "stream",
     "text": [
      "[4 2 1 3]\n"
     ]
    }
   ],
   "source": [
    "arr = np.array([1, 2, 3, 4])\n",
    "rng.shuffle(arr)\n",
    "print(arr)  # ترتیبش تصادفی می‌شه"
   ]
  },
  {
   "cell_type": "markdown",
   "id": "eee62521-69af-4389-8f11-971a9a6a1981",
   "metadata": {},
   "source": [
    "<div style=\"direction: rtl; text-align: right; font-size: 20px\">\n",
    "    نمونه‌گیری تصادفی\n",
    "</div>"
   ]
  },
  {
   "cell_type": "code",
   "execution_count": 84,
   "id": "3c7f1afc-10e3-41a1-8637-91d0936b7304",
   "metadata": {},
   "outputs": [
    {
     "data": {
      "text/plain": [
       "array([4, 3, 0, 2, 1])"
      ]
     },
     "execution_count": 84,
     "metadata": {},
     "output_type": "execute_result"
    }
   ],
   "source": [
    "rng.permutation(5)   # آرایه‌ی تصادفی شامل اعداد 0 تا 4 به صورت مرتب‌نشده"
   ]
  },
  {
   "cell_type": "markdown",
   "id": "181cd86b-028e-4a45-9813-434ad91c9a9c",
   "metadata": {},
   "source": [
    "<div style=\"direction: rtl; text-align: right; font-size: 20px; color:red\">\n",
    "    default_rng() برای تولید عدد تصادفی جدیدتر و امن‌تر از np.random قدیمی استفاده می‌شه.\n",
    "</div>"
   ]
  },
  {
   "cell_type": "markdown",
   "id": "2092f867-71fc-4061-bbfa-1cbaafafc8a5",
   "metadata": {},
   "source": [
    "<div style=\"direction: rtl; text-align: right; font-size: 30px\">\n",
    "تغییر شکل پیشرفته آرایه ها\n",
    "</div>"
   ]
  },
  {
   "cell_type": "markdown",
   "id": "9bd9b6ab-ffb3-4d4e-96c0-dbf84f33bdbe",
   "metadata": {},
   "source": [
    "<div style=\"direction: rtl; text-align: right; font-size: 20px\">\n",
    "     تغییر ابعاد بدون تغییر داده‌ها\n",
    "</div>"
   ]
  },
  {
   "cell_type": "code",
   "execution_count": 85,
   "id": "6ca54c3d-7133-4936-8f6a-d0ef02fea4fb",
   "metadata": {},
   "outputs": [
    {
     "name": "stdout",
     "output_type": "stream",
     "text": [
      "[[0 1 2]\n",
      " [3 4 5]]\n"
     ]
    }
   ],
   "source": [
    "a = np.arange(6) \n",
    "b = a.reshape((2, 3))\n",
    "print(b)"
   ]
  },
  {
   "cell_type": "markdown",
   "id": "ab465ae3-27a9-4c68-a206-56c645dc75d2",
   "metadata": {},
   "source": [
    "<div style=\"direction: rtl; text-align: right; font-size: 20px\">\n",
    "     صاف کردن (یک‌بعدی کردن)\n",
    "</div>"
   ]
  },
  {
   "cell_type": "code",
   "execution_count": 86,
   "id": "0d3a5a02-4da0-41b4-a9e1-51e15962ba1e",
   "metadata": {},
   "outputs": [
    {
     "name": "stdout",
     "output_type": "stream",
     "text": [
      "[1 2 3 4]\n"
     ]
    }
   ],
   "source": [
    "a = np.array([[1, 2], [3, 4]])\n",
    "print(a.ravel())"
   ]
  },
  {
   "cell_type": "markdown",
   "id": "4ba7b131-848c-47b6-b826-6cba2be9dc14",
   "metadata": {},
   "source": [
    "<div style=\"direction: rtl; text-align: right; font-size: 20px\">\n",
    "    (transpose)  جابجایی سطر و ستون\n",
    "</div>"
   ]
  },
  {
   "cell_type": "code",
   "execution_count": 87,
   "id": "58bf69b5-b9c0-4434-a32f-f184e735b95c",
   "metadata": {},
   "outputs": [
    {
     "name": "stdout",
     "output_type": "stream",
     "text": [
      "[[1 3]\n",
      " [2 4]]\n"
     ]
    }
   ],
   "source": [
    "a = np.array([[1, 2], [3, 4]])\n",
    "print(a.T) "
   ]
  },
  {
   "cell_type": "markdown",
   "id": "59ac541e-6e6c-418c-9e33-f19114e4b34b",
   "metadata": {},
   "source": [
    "<div style=\"direction: rtl; text-align: right; font-size: 20px\">\n",
    "     تغییر اندازه با تغییر در داده‌ها (می‌تونه حذف یا تکرار کنه)\n",
    "</div>"
   ]
  },
  {
   "cell_type": "code",
   "execution_count": 88,
   "id": "8c54ff11-ee1f-4e33-8b34-fbe68077725d",
   "metadata": {},
   "outputs": [
    {
     "name": "stdout",
     "output_type": "stream",
     "text": [
      "[[1 2]\n",
      " [3 0]]\n"
     ]
    }
   ],
   "source": [
    "a = np.array([1, 2, 3])\n",
    "a.resize((2, 2))\n",
    "print(a)"
   ]
  },
  {
   "cell_type": "markdown",
   "id": "887ff6f7-da0c-439c-a38a-44a9fd3f95f8",
   "metadata": {},
   "source": [
    "<div style=\"direction: rtl; text-align: right; font-size: 30px\">\n",
    "</div>"
   ]
  },
  {
   "cell_type": "markdown",
   "id": "7f4f8dec-e70e-4893-95f8-931bcd4204c8",
   "metadata": {},
   "source": [
    "<div style=\"direction: rtl; text-align: right; font-size: 25px\">\n",
    "    تفاوت ravel و flatten\n",
    "</div>"
   ]
  },
  {
   "cell_type": "markdown",
   "id": "91b948ce-4511-47c2-8c3d-cea7a6e56066",
   "metadata": {},
   "source": [
    "<div style=\"direction: rtl; text-align: right; font-size: 20px\">\n",
    "    ravel() — سریع، ولی نمایی (view)\n",
    "</div>"
   ]
  },
  {
   "cell_type": "markdown",
   "id": "af7849e6-593b-45a8-89d7-0d3fe4e7158e",
   "metadata": {},
   "source": [
    "<div style=\"direction: rtl; text-align: right; font-size: 20px\">\n",
    "    در واقع روی همون آرایه اصلی عملیات رو انجام میده\n",
    "</div>"
   ]
  },
  {
   "cell_type": "code",
   "execution_count": 89,
   "id": "1fac322b-c9e7-444f-9b0a-a7598b6938fc",
   "metadata": {},
   "outputs": [
    {
     "name": "stdout",
     "output_type": "stream",
     "text": [
      "[[99  2]\n",
      " [ 3  4]]\n"
     ]
    }
   ],
   "source": [
    "a = np.array([[1, 2], [3, 4]])\n",
    "b = a.ravel()\n",
    "\n",
    "b[0] = 99\n",
    "print(a)"
   ]
  },
  {
   "cell_type": "markdown",
   "id": "62c08655-6954-4686-ab4a-70fd1548dc8d",
   "metadata": {},
   "source": [
    "<div style=\"direction: rtl; text-align: right; font-size: 25px\">\n",
    "    flatten() — کپی کامل\n",
    "</div>"
   ]
  },
  {
   "cell_type": "markdown",
   "id": "6441925e-1abd-4424-b284-4bed30ed1aad",
   "metadata": {},
   "source": [
    "<div style=\"direction: rtl; text-align: right; font-size: 20px\">\n",
    "    روی آرایه اصلی تغییری ایجاد نمیکنه و یک آرایه مستقل از اون کپی میکنه\n",
    "</div>"
   ]
  },
  {
   "cell_type": "code",
   "execution_count": 90,
   "id": "a4b8509a-26ae-450b-af06-49c7566d3c45",
   "metadata": {},
   "outputs": [
    {
     "name": "stdout",
     "output_type": "stream",
     "text": [
      "[[1 2]\n",
      " [3 4]]\n"
     ]
    }
   ],
   "source": [
    "a = np.array([[1, 2], [3, 4]])\n",
    "b = a.flatten()\n",
    "\n",
    "b[0] = 99\n",
    "print(a)"
   ]
  },
  {
   "cell_type": "markdown",
   "id": "5e28a6db-a2e6-422b-985f-fad7e59e85ca",
   "metadata": {},
   "source": [
    "<div style=\"direction: rtl; text-align: right; font-size: 30px\">\n",
    "    چطور یک آرایه NumPy رو برعکس (reverse) کنیم\n",
    "</div>"
   ]
  },
  {
   "cell_type": "markdown",
   "id": "1780bd30-5ba1-4265-bc83-379bdaadb702",
   "metadata": {},
   "source": [
    "<div style=\"direction: rtl; text-align: right; font-size: 20px\">\n",
    "     برعکس کردن آرایه ۱‌بعدی\n",
    "</div>"
   ]
  },
  {
   "cell_type": "code",
   "execution_count": 91,
   "id": "41975f1c-121a-45f7-ae55-211e8be0bec9",
   "metadata": {},
   "outputs": [
    {
     "name": "stdout",
     "output_type": "stream",
     "text": [
      "[5 4 3 2 1]\n"
     ]
    }
   ],
   "source": [
    "import numpy as np\n",
    "\n",
    "a = np.array([1, 2, 3, 4, 5])\n",
    "reversed_a = a[::-1]\n",
    "print(reversed_a)\n"
   ]
  },
  {
   "cell_type": "markdown",
   "id": "a385e110-9e48-47a3-9832-3b00e7bb0739",
   "metadata": {},
   "source": [
    "<div style=\"direction: rtl; text-align: right; font-size: 25px\">\n",
    "    برعکس کردن سطرها یا ستون‌های آرایه ۲‌بعدی\n",
    "</div>"
   ]
  },
  {
   "cell_type": "code",
   "execution_count": 92,
   "id": "1eee4c60-e003-4949-adf1-32f205309193",
   "metadata": {},
   "outputs": [],
   "source": [
    "b = np.array([[1, 2, 3],\n",
    "              [4, 5, 6]])"
   ]
  },
  {
   "cell_type": "markdown",
   "id": "f0e68a80-6841-4a94-80f1-a6ef86300ef4",
   "metadata": {},
   "source": [
    "<div style=\"direction: rtl; text-align: right; font-size: 20px\">\n",
    "    برعکس کردن ترتیب سطرها (محور ۰):\n",
    "</div>"
   ]
  },
  {
   "cell_type": "code",
   "execution_count": 93,
   "id": "07cd4942-bef1-4ee1-b8eb-850bf39f704e",
   "metadata": {},
   "outputs": [
    {
     "data": {
      "text/plain": [
       "array([[4, 5, 6],\n",
       "       [1, 2, 3]])"
      ]
     },
     "execution_count": 93,
     "metadata": {},
     "output_type": "execute_result"
    }
   ],
   "source": [
    "b[::-1, :]"
   ]
  },
  {
   "cell_type": "markdown",
   "id": "3c6203ed-a342-44cd-8a29-ec40debcad54",
   "metadata": {},
   "source": [
    "<div style=\"direction: rtl; text-align: right; font-size: 20px\">\n",
    "    برعکس کردن ترتیب ستون‌ها (محور ۱):\n",
    "</div>"
   ]
  },
  {
   "cell_type": "code",
   "execution_count": 94,
   "id": "a5210996-e87c-4d4e-817c-ed4b0df3a311",
   "metadata": {},
   "outputs": [
    {
     "data": {
      "text/plain": [
       "array([[3, 2, 1],\n",
       "       [6, 5, 4]])"
      ]
     },
     "execution_count": 94,
     "metadata": {},
     "output_type": "execute_result"
    }
   ],
   "source": [
    "b[:, ::-1]"
   ]
  },
  {
   "cell_type": "markdown",
   "id": "205dcc5d-0287-4b6c-b12e-158353e5d41d",
   "metadata": {},
   "source": [
    "<div style=\"direction: rtl; text-align: right; font-size: 20px\">\n",
    "     برعکس کردن همزمان سطر و ستون:\n",
    "</div>"
   ]
  },
  {
   "cell_type": "code",
   "execution_count": 95,
   "id": "8bede33a-0e0e-4f6a-bc2f-32459e74f9f3",
   "metadata": {},
   "outputs": [
    {
     "data": {
      "text/plain": [
       "array([[6, 5, 4],\n",
       "       [3, 2, 1]])"
      ]
     },
     "execution_count": 95,
     "metadata": {},
     "output_type": "execute_result"
    }
   ],
   "source": [
    "b[::-1, ::-1]\n"
   ]
  },
  {
   "cell_type": "markdown",
   "id": "a0f588cf-f842-488b-b0c1-92187374e59e",
   "metadata": {},
   "source": [
    "<div style=\"direction: rtl; text-align: right; font-size: 30px\">\n",
    "    روش‌های مختلف اتصال (stack کردن) آرایه‌ها\n",
    "</div>"
   ]
  },
  {
   "cell_type": "markdown",
   "id": "489f76d0-812c-4f36-8389-9a4a85ae9ca1",
   "metadata": {},
   "source": [
    "<div style=\"direction: rtl; text-align: right; font-size: 20px\">\n",
    "   چسباندن عمودی (محور ۰)\n",
    "</div>"
   ]
  },
  {
   "cell_type": "code",
   "execution_count": 96,
   "id": "f1f5ecab-43f5-4226-8999-ca495fa031a0",
   "metadata": {},
   "outputs": [],
   "source": [
    "a = np.array([1, 2, 3])\n",
    "b = np.array([4, 5, 6])"
   ]
  },
  {
   "cell_type": "code",
   "execution_count": 97,
   "id": "d9d48346-7de7-4da0-9baa-6c2a0deb7023",
   "metadata": {},
   "outputs": [
    {
     "data": {
      "text/plain": [
       "array([[1, 2, 3],\n",
       "       [4, 5, 6]])"
      ]
     },
     "execution_count": 97,
     "metadata": {},
     "output_type": "execute_result"
    }
   ],
   "source": [
    "np.vstack((a, b))"
   ]
  },
  {
   "cell_type": "markdown",
   "id": "835ab26f-afce-4f50-8aec-9853de2fcfcc",
   "metadata": {},
   "source": [
    "<div style=\"direction: rtl; text-align: right; font-size: 20px\">\n",
    "     چسباندن افقی (محور ۱)\n",
    "</div>"
   ]
  },
  {
   "cell_type": "code",
   "execution_count": 98,
   "id": "12c5b79c-b378-45f3-a05f-3b6740786ca1",
   "metadata": {},
   "outputs": [
    {
     "data": {
      "text/plain": [
       "array([1, 2, 3, 4, 5, 6])"
      ]
     },
     "execution_count": 98,
     "metadata": {},
     "output_type": "execute_result"
    }
   ],
   "source": [
    "np.hstack((a, b))"
   ]
  },
  {
   "cell_type": "markdown",
   "id": "a0f5b4e6-5b99-49f7-b0a9-8f0a44d9ef6e",
   "metadata": {},
   "source": [
    "<div style=\"direction: rtl; text-align: right; font-size: 20px\">\n",
    "     ترکیب دو آرایه به‌صورت ستون\n",
    "</div>"
   ]
  },
  {
   "cell_type": "code",
   "execution_count": 99,
   "id": "234bcd72-31ec-4e54-9637-e8b056bfa678",
   "metadata": {},
   "outputs": [
    {
     "data": {
      "text/plain": [
       "array([[1, 4],\n",
       "       [2, 5],\n",
       "       [3, 6]])"
      ]
     },
     "execution_count": 99,
     "metadata": {},
     "output_type": "execute_result"
    }
   ],
   "source": [
    "np.column_stack((a, b))"
   ]
  },
  {
   "cell_type": "markdown",
   "id": "dd29a52a-32e7-41a6-a5af-000335600eb2",
   "metadata": {},
   "source": [
    "<div style=\"direction: rtl; text-align: right; font-size: 20px\">\n",
    "    اتصال با محور دلخواه\n",
    "</div>"
   ]
  },
  {
   "cell_type": "code",
   "execution_count": 100,
   "id": "aed8e2b0-39d0-4dfb-a12e-2eaa017c923f",
   "metadata": {},
   "outputs": [
    {
     "data": {
      "text/plain": [
       "array([[1, 2, 3],\n",
       "       [4, 5, 6]])"
      ]
     },
     "execution_count": 100,
     "metadata": {},
     "output_type": "execute_result"
    }
   ],
   "source": [
    "np.stack((a, b), axis=0)"
   ]
  },
  {
   "cell_type": "code",
   "execution_count": 101,
   "id": "86c07aa9-1619-4d05-8e25-c1e7e784dbc7",
   "metadata": {},
   "outputs": [
    {
     "data": {
      "text/plain": [
       "array([[1, 4],\n",
       "       [2, 5],\n",
       "       [3, 6]])"
      ]
     },
     "execution_count": 101,
     "metadata": {},
     "output_type": "execute_result"
    }
   ],
   "source": [
    "np.stack((a, b), axis=1)"
   ]
  },
  {
   "cell_type": "markdown",
   "id": "237d926d-8c31-45f1-a01c-25e1b45c0cae",
   "metadata": {},
   "source": [
    "<div style=\"direction: rtl; text-align: right; font-size: 30px\">\n",
    "    چطور یک آرایه را به چند بخش کوچکتر تقسیم کنیم\n",
    "</div>"
   ]
  },
  {
   "cell_type": "markdown",
   "id": "bdd747f1-83de-49be-a4ee-75cb72da317d",
   "metadata": {},
   "source": [
    "<div style=\"direction: rtl; text-align: right; font-size: 20px\">\n",
    "     تقسیم افقی (ستون‌ها)\n",
    "</div>"
   ]
  },
  {
   "cell_type": "code",
   "execution_count": 102,
   "id": "23d38f47-7c53-44fd-90a8-7ee984ab7b68",
   "metadata": {},
   "outputs": [
    {
     "data": {
      "text/plain": [
       "[array([[0, 1],\n",
       "        [6, 7]]),\n",
       " array([[2, 3],\n",
       "        [8, 9]]),\n",
       " array([[ 4,  5],\n",
       "        [10, 11]])]"
      ]
     },
     "execution_count": 102,
     "metadata": {},
     "output_type": "execute_result"
    }
   ],
   "source": [
    "a = np.arange(12).reshape(2, 6)\n",
    "np.hsplit(a, 3)"
   ]
  },
  {
   "cell_type": "markdown",
   "id": "bcc5c790-777f-47b9-9844-235d8b594d62",
   "metadata": {},
   "source": [
    "<div style=\"direction: rtl; text-align: right; font-size: 20px\">\n",
    "     تقسیم عمودی (سطرها)\n",
    "</div>"
   ]
  },
  {
   "cell_type": "code",
   "execution_count": 103,
   "id": "ccf18cca-8703-4d53-b953-700971abbe8a",
   "metadata": {},
   "outputs": [
    {
     "data": {
      "text/plain": [
       "[array([[0, 1, 2, 3, 4, 5]]), array([[ 6,  7,  8,  9, 10, 11]])]"
      ]
     },
     "execution_count": 103,
     "metadata": {},
     "output_type": "execute_result"
    }
   ],
   "source": [
    "np.vsplit(a, 2)"
   ]
  },
  {
   "cell_type": "markdown",
   "id": "69af882a-097b-42fd-a320-278e645b27ba",
   "metadata": {},
   "source": [
    "<div style=\"direction: rtl; text-align: right; font-size: 20px\">\n",
    "    تقسیم به تعداد دلخواه (حتی اگه برابر نشه)\n",
    "</div>"
   ]
  },
  {
   "cell_type": "code",
   "execution_count": 104,
   "id": "b0a79985-0c32-459a-8e34-83217391fa95",
   "metadata": {},
   "outputs": [
    {
     "data": {
      "text/plain": [
       "[array([0, 1, 2, 3]), array([4, 5, 6]), array([7, 8, 9])]"
      ]
     },
     "execution_count": 104,
     "metadata": {},
     "output_type": "execute_result"
    }
   ],
   "source": [
    "b = np.arange(10)\n",
    "np.array_split(b, 3)"
   ]
  },
  {
   "cell_type": "markdown",
   "id": "729d1ed2-4a8d-4cc9-896e-ad2071151cca",
   "metadata": {},
   "source": [
    "<div style=\"direction: rtl; text-align: right; font-size: 20px\">\n",
    "    تقسیم معمولی ولی باید اندازه‌ها دقیق باشه\n",
    "</div>"
   ]
  },
  {
   "cell_type": "code",
   "execution_count": 105,
   "id": "0cd86524-5e98-4134-b8bf-81c358e69f99",
   "metadata": {},
   "outputs": [
    {
     "data": {
      "text/plain": [
       "[array([0, 1]), array([2, 3]), array([4, 5]), array([6, 7])]"
      ]
     },
     "execution_count": 105,
     "metadata": {},
     "output_type": "execute_result"
    }
   ],
   "source": [
    "c = np.arange(8)\n",
    "np.split(c, 4)"
   ]
  },
  {
   "cell_type": "markdown",
   "id": "bea6b9f5-2e77-4f16-a03a-6e810ada1d06",
   "metadata": {},
   "source": [
    "<div style=\"direction: rtl; text-align: right; font-size: 30px\">\n",
    "    Copies and views\n",
    "</div>"
   ]
  },
  {
   "cell_type": "markdown",
   "id": "27e8afa4-76c4-4178-9b53-7a74886b332b",
   "metadata": {},
   "source": [
    "<div style=\"direction: rtl; text-align: right; font-size: 20px\">\n",
    "    در NumPy، مفاهیم Copy (کپی) و View (نمای داده) بسیار مهم هستند چون در عملکرد، مصرف حافظه و تغییرات روی آرایه‌ها تأثیر مستقیم دارند.\n",
    "</div"
   ]
  },
  {
   "cell_type": "markdown",
   "id": "04f77842-a357-47fb-901d-d4d8f0cf0a5e",
   "metadata": {},
   "source": [
    "<div style=\"direction: rtl; text-align: right; font-size: 25px\">\n",
    "    Copy (کپی عمیق)\n",
    "</div"
   ]
  },
  {
   "cell_type": "markdown",
   "id": "9ef4da3f-8576-485e-84ba-b5784118dfde",
   "metadata": {},
   "source": [
    "<div style=\"direction: rtl; text-align: right; font-size: 20px\">\n",
    "    با استفاده از np.copy() یا .copy() یک نسخه‌ی کاملاً جدا از داده‌ها ایجاد می‌کنی.\n",
    "</div"
   ]
  },
  {
   "cell_type": "code",
   "execution_count": 106,
   "id": "958d9690-ae28-40a0-babf-0e9152c52dd4",
   "metadata": {},
   "outputs": [
    {
     "name": "stdout",
     "output_type": "stream",
     "text": [
      "[1 2 3]\n",
      "[100   2   3]\n"
     ]
    }
   ],
   "source": [
    "a = np.array([1, 2, 3])\n",
    "b = a.copy()\n",
    "b[0] = 100\n",
    "\n",
    "print(a) \n",
    "print(b)  "
   ]
  },
  {
   "cell_type": "markdown",
   "id": "e227e545-00eb-477d-976e-c6c47229ee67",
   "metadata": {},
   "source": [
    "<div style=\"direction: rtl; text-align: right; font-size: 25px\">\n",
    "    View (کپی سطحی)\n",
    "</div"
   ]
  },
  {
   "cell_type": "markdown",
   "id": "88641c69-43dc-43b6-96b0-ed1ecb06a2b7",
   "metadata": {},
   "source": [
    "<div style=\"direction: rtl; text-align: right; font-size: 20px\">\n",
    "    View فقط یک اشاره به داده‌های اصلی است. با تغییر آن، آرایه‌ی اصلی هم تغییر می‌کند.\n",
    "</div"
   ]
  },
  {
   "cell_type": "code",
   "execution_count": 107,
   "id": "8a80cc41-98f4-447b-b8f6-13bfc37af664",
   "metadata": {},
   "outputs": [
    {
     "name": "stdout",
     "output_type": "stream",
     "text": [
      "[100   2   3]\n"
     ]
    }
   ],
   "source": [
    "a = np.array([1, 2, 3])\n",
    "b = a.view()\n",
    "b[0] = 100\n",
    "\n",
    "print(a)"
   ]
  },
  {
   "cell_type": "markdown",
   "id": "3fabf472-d565-47d3-8480-15d2c4e567eb",
   "metadata": {},
   "source": [
    "<div style=\"direction: rtl; text-align: right; font-size: 20px\">\n",
    "    بررسی اینکه آیا b یک view از a هست یا نه؟\n",
    "\n",
    "</div>"
   ]
  },
  {
   "cell_type": "code",
   "execution_count": 108,
   "id": "d66470f7-9ca9-4237-af04-347ed8b8bf06",
   "metadata": {},
   "outputs": [
    {
     "data": {
      "text/plain": [
       "True"
      ]
     },
     "execution_count": 108,
     "metadata": {},
     "output_type": "execute_result"
    }
   ],
   "source": [
    "b.base is a "
   ]
  },
  {
   "cell_type": "markdown",
   "id": "169042f6-03f3-490c-bd10-8857424cb7bd",
   "metadata": {},
   "source": [
    "<div style=\"direction: rtl; text-align: right; font-size: 30px\">\n",
    "    Boolean Indexing \n",
    "</div"
   ]
  },
  {
   "cell_type": "markdown",
   "id": "48840dc5-830a-4623-a542-bcdcb1fb9cd0",
   "metadata": {},
   "source": [
    "<div style=\"direction: rtl; text-align: right; font-size: 20px\">\n",
    "وقتی بخواهی فقط عناصری از آرایه را انتخاب کنی که شرط خاصی را دارند، از Boolean Indexing استفاده می‌کنی.\n",
    "NumPy به جای دادن ایندکس عددی، یک آرایه بولی (True/False) به عنوان ماسک استفاده می‌کند.\n",
    "</div>"
   ]
  },
  {
   "cell_type": "code",
   "execution_count": 109,
   "id": "5b3c8779-fc85-4a87-8749-08468b543281",
   "metadata": {},
   "outputs": [
    {
     "name": "stdout",
     "output_type": "stream",
     "text": [
      "[False False  True  True  True]\n",
      "[30 40 50]\n"
     ]
    }
   ],
   "source": [
    "a = np.array([10, 20, 30, 40, 50])\n",
    "mask = a > 25 \n",
    "print(mask)\n",
    "\n",
    "filtered = a[mask]\n",
    "print(filtered)  "
   ]
  },
  {
   "cell_type": "markdown",
   "id": "796f9ab5-5a47-4eb8-b755-7fdfe15409b0",
   "metadata": {},
   "source": [
    "<div style=\"direction: rtl; text-align: right; font-size: 20px\">\n",
    "    mask یک آرایه از True و False است، به طول آرایه اصلی.\n",
    "</div>"
   ]
  },
  {
   "cell_type": "markdown",
   "id": "134eb297-8db0-476d-80b7-d20cbe512383",
   "metadata": {},
   "source": [
    "<div style=\"direction: rtl; text-align: right; font-size: 20px\">\n",
    "    حالت مستقیم:\n",
    "</div>"
   ]
  },
  {
   "cell_type": "code",
   "execution_count": 110,
   "id": "0f59cb1c-443d-4f2b-b72f-123b420cc581",
   "metadata": {},
   "outputs": [
    {
     "name": "stdout",
     "output_type": "stream",
     "text": [
      "[20 40]\n"
     ]
    }
   ],
   "source": [
    "print(a[a % 20 == 0]) "
   ]
  },
  {
   "cell_type": "markdown",
   "id": "097fd55b-027c-425b-bc9d-57be27127f44",
   "metadata": {},
   "source": [
    "<div style=\"direction: rtl; text-align: right; font-size: 20px\">\n",
    "    کاربردهای رایج:\n",
    "</div>"
   ]
  },
  {
   "cell_type": "markdown",
   "id": "f2db3ff4-6578-47b7-a60f-3a114c4c0b54",
   "metadata": {},
   "source": [
    "<div style=\"direction: rtl; text-align: right; font-size: 20px\">\n",
    "   - انتخاب عناصر بزرگ‌تر یا کوچک‌تر از عددی خاص و عناصر زوج یا فرد\n",
    "    <br>\n",
    "   - ترکیب چند شرط با & (و) یا | (یا)\n",
    "</div>"
   ]
  },
  {
   "cell_type": "code",
   "execution_count": 111,
   "id": "843781a1-0d75-4256-8d81-cea56c0bbf3a",
   "metadata": {},
   "outputs": [
    {
     "name": "stdout",
     "output_type": "stream",
     "text": [
      "[30]\n"
     ]
    }
   ],
   "source": [
    "print(a[(a > 20) & (a < 40)]) "
   ]
  },
  {
   "cell_type": "markdown",
   "id": "a43e1c96-fa97-4bed-9c4d-816543687991",
   "metadata": {},
   "source": [
    "<div style=\"direction: rtl; text-align: right; font-size: 30px\">\n",
    "    روش‌های ذخیره و بارگذاری آرایه‌های NumPy\n",
    "</div>"
   ]
  },
  {
   "cell_type": "markdown",
   "id": "4d4d12a8-2004-4f0b-b2ce-a57da906f7da",
   "metadata": {},
   "source": [
    "<div style=\"direction: rtl; text-align: right; font-size: 20px\">\n",
    "    ذخیره آرایه\n",
    "</div>"
   ]
  },
  {
   "cell_type": "code",
   "execution_count": 112,
   "id": "bacf020b-b6e9-406a-ba23-99c84e679b0f",
   "metadata": {},
   "outputs": [],
   "source": [
    "a = np.array([1, 2, 3, 4, 5])\n",
    "np.save('my_array.npy', a) #    ذخیره آرایه در فایلی به اسم my_array.npy"
   ]
  },
  {
   "cell_type": "markdown",
   "id": "70e1d747-6105-40cf-9f87-77e3e59504cb",
   "metadata": {},
   "source": [
    "<div style=\"direction: rtl; text-align: right; font-size: 20px\">\n",
    "    ذخیره چند آرایه\n",
    "</div>"
   ]
  },
  {
   "cell_type": "code",
   "execution_count": 113,
   "id": "34b04077-f6af-44f9-ab65-d441ef73556f",
   "metadata": {},
   "outputs": [],
   "source": [
    "a = np.array([1, 2, 3])\n",
    "b = np.array([4, 5, 6])\n",
    "\n",
    "np.savez('arrays.npz', array1=a, array2=b)"
   ]
  },
  {
   "cell_type": "markdown",
   "id": "945a8a81-92ee-4f26-a161-8adec55c1a13",
   "metadata": {},
   "source": [
    "<div style=\"direction: rtl; text-align: right; font-size: 20px\">\n",
    "    بارگذاری آرایه\n",
    "</div>"
   ]
  },
  {
   "cell_type": "code",
   "execution_count": 114,
   "id": "603b9752-c9a2-4aa8-b972-24280201e716",
   "metadata": {},
   "outputs": [
    {
     "name": "stdout",
     "output_type": "stream",
     "text": [
      "[1 2 3 4 5]\n"
     ]
    }
   ],
   "source": [
    "b = np.load('my_array.npy')\n",
    "print(b) "
   ]
  },
  {
   "cell_type": "markdown",
   "id": "f980b1c1-3b4a-4ddd-b765-6c3846928b28",
   "metadata": {},
   "source": [
    "<div style=\"direction: rtl; text-align: right; font-size: 20px\">\n",
    "    بارگذاری چند آرایه از فایل\n",
    "</div>"
   ]
  },
  {
   "cell_type": "code",
   "execution_count": 115,
   "id": "cade0903-cda0-4dc5-91af-3f32e5bb69c7",
   "metadata": {},
   "outputs": [
    {
     "name": "stdout",
     "output_type": "stream",
     "text": [
      "[1 2 3]\n",
      "[4 5 6]\n"
     ]
    }
   ],
   "source": [
    "data = np.load('arrays.npz')\n",
    "print(data['array1']) \n",
    "print(data['array2'])  "
   ]
  },
  {
   "cell_type": "markdown",
   "id": "bd2c8907-2be9-4c9c-9328-84b96824cc6e",
   "metadata": {},
   "source": [
    "<div style=\"direction: rtl; text-align: right; font-size: 30px\">\n",
    "     خواندن و نوشتن فایل‌های CSV\n",
    "</div>"
   ]
  },
  {
   "cell_type": "markdown",
   "id": "056a7f8a-5ff6-4e36-b97e-67d5ce091e89",
   "metadata": {},
   "source": [
    "<div style=\"direction: rtl; text-align: right; font-size: 20px\">\n",
    "    خواندن CSV ساده\n",
    "    <br>\n",
    "        مناسب وقتی فایل فقط عددی است و بدون هدر.\n",
    "</div>"
   ]
  },
  {
   "cell_type": "raw",
   "id": "96d47cff-295f-44f6-8450-5f9f9a1fe678",
   "metadata": {},
   "source": [
    "data = np.loadtxt('data.csv', delimiter=',')\n",
    "print(data)"
   ]
  },
  {
   "cell_type": "markdown",
   "id": "71d71e61-a74a-48f6-bba4-8bb1a07e4b25",
   "metadata": {},
   "source": [
    "<div style=\"direction: rtl; text-align: right; font-size: 20px\">\n",
    "     خواندن CSV با هدر و داده‌های ناقص\n",
    "    <br>\n",
    "    مناسب برای داده‌های پیچیده‌تر یا وجود داده‌های خالی.\n",
    "</div>"
   ]
  },
  {
   "cell_type": "raw",
   "id": "59316e6b-6bf5-406b-8203-3066b20fbd42",
   "metadata": {},
   "source": [
    "data = np.genfromtxt('data.csv', delimiter=',', names=True, dtype=None, encoding=None)\n",
    "print(data)"
   ]
  },
  {
   "cell_type": "markdown",
   "id": "e94f6c68-d7d6-4a8b-b9ec-6c8ee1aabf52",
   "metadata": {},
   "source": [
    "<div style=\"direction: rtl; text-align: right; font-size: 20px\">\n",
    "    نوشتن آرایه به CSV\n",
    "</div>"
   ]
  },
  {
   "cell_type": "raw",
   "id": "c04ecb2c-7a18-4e9c-85c4-aa23017d99da",
   "metadata": {},
   "source": [
    "a = np.array([[1, 2, 3], [4, 5, 6]])\n",
    "np.savetxt('output.csv', a, delimiter=',', fmt='%d')"
   ]
  },
  {
   "cell_type": "markdown",
   "id": "b632da0e-6893-44ca-a7ed-efb64ccf1a5d",
   "metadata": {},
   "source": [
    "<div style=\"direction: rtl; text-align: right; font-size: 30px\">\n",
    "    نکات مهم\n",
    "</div>"
   ]
  },
  {
   "cell_type": "markdown",
   "id": "e9b38890-ad0d-46ba-ab4e-837dea3c003d",
   "metadata": {},
   "source": [
    "<div style=\"direction: rtl; text-align: right; font-size: 20px\">\n",
    "    - NumPy بیشتر برای داده‌های عددی مناسبه.\n",
    "    <br>\n",
    "    - برای داده‌های ترکیبی (اعداد و رشته) بهتر  از pandas استفاده کنی.\n",
    "    <br>\n",
    "    - خواندن و نوشتن CSV در NumPy سریع و ساده است ولی امکانات محدودتری نسبت به pandas داره.\n",
    "</div>"
   ]
  },
  {
   "cell_type": "markdown",
   "id": "c8912ebc-7347-4119-9345-0d9af3d19a8a",
   "metadata": {},
   "source": [
    "<div style=\"direction: rtl; text-align: right; font-size: 20px\">\n",
    "💢 امیدوارم که این Notebook مفید بوده باشه و بتونه به شما در یادگیری NumPy کمک کنه.سعی کردم تمام نکات و بخش های مهم NumPy رو براتون یکجا جمع کنم تا راحت به یادگیری بپردازیم ;)\n",
    "    <br>\n",
    "اگر سوالی و نکته ای بود میتونید با من از طریق ایمیل و یا تلگرام در ارتباط باشید.رفیق شما ارسلانم.\n",
    "    <br>\n",
    "    <br>\n",
    "ما هنوز باور داریم به خدای رنگین کمان 💫🌈\n",
    "</div>"
   ]
  }
 ],
 "metadata": {
  "kernelspec": {
   "display_name": "Python 3 (ipykernel)",
   "language": "python",
   "name": "python3"
  },
  "language_info": {
   "codemirror_mode": {
    "name": "ipython",
    "version": 3
   },
   "file_extension": ".py",
   "mimetype": "text/x-python",
   "name": "python",
   "nbconvert_exporter": "python",
   "pygments_lexer": "ipython3",
   "version": "3.13.3"
  }
 },
 "nbformat": 4,
 "nbformat_minor": 5
}
